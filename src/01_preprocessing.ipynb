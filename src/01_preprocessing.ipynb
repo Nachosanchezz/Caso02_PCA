{
 "cells": [
  {
   "cell_type": "code",
   "execution_count": 544,
   "metadata": {},
   "outputs": [
    {
     "name": "stdout",
     "output_type": "stream",
     "text": [
      "Note: you may need to restart the kernel to use updated packages.\n",
      "Requirement already satisfied: pandas in c:\\users\\1cnac\\onedrive\\documentos\\ingeniería matemática\\inteligencia artificial\\b\\env\\lib\\site-packages (2.2.3)\n",
      "Requirement already satisfied: numpy in c:\\users\\1cnac\\onedrive\\documentos\\ingeniería matemática\\inteligencia artificial\\b\\env\\lib\\site-packages (2.2.4)\n",
      "Requirement already satisfied: scikit-learn in c:\\users\\1cnac\\onedrive\\documentos\\ingeniería matemática\\inteligencia artificial\\b\\env\\lib\\site-packages (1.6.1)\n",
      "Requirement already satisfied: seaborn in c:\\users\\1cnac\\onedrive\\documentos\\ingeniería matemática\\inteligencia artificial\\b\\env\\lib\\site-packages (0.13.2)\n",
      "Requirement already satisfied: matplotlib in c:\\users\\1cnac\\onedrive\\documentos\\ingeniería matemática\\inteligencia artificial\\b\\env\\lib\\site-packages (3.10.1)\n",
      "Requirement already satisfied: python-dateutil>=2.8.2 in c:\\users\\1cnac\\onedrive\\documentos\\ingeniería matemática\\inteligencia artificial\\b\\env\\lib\\site-packages (from pandas) (2.9.0.post0)\n",
      "Requirement already satisfied: pytz>=2020.1 in c:\\users\\1cnac\\onedrive\\documentos\\ingeniería matemática\\inteligencia artificial\\b\\env\\lib\\site-packages (from pandas) (2025.2)\n",
      "Requirement already satisfied: tzdata>=2022.7 in c:\\users\\1cnac\\onedrive\\documentos\\ingeniería matemática\\inteligencia artificial\\b\\env\\lib\\site-packages (from pandas) (2025.2)\n",
      "Requirement already satisfied: scipy>=1.6.0 in c:\\users\\1cnac\\onedrive\\documentos\\ingeniería matemática\\inteligencia artificial\\b\\env\\lib\\site-packages (from scikit-learn) (1.15.2)\n",
      "Requirement already satisfied: threadpoolctl>=3.1.0 in c:\\users\\1cnac\\onedrive\\documentos\\ingeniería matemática\\inteligencia artificial\\b\\env\\lib\\site-packages (from scikit-learn) (3.6.0)\n",
      "Requirement already satisfied: joblib>=1.2.0 in c:\\users\\1cnac\\onedrive\\documentos\\ingeniería matemática\\inteligencia artificial\\b\\env\\lib\\site-packages (from scikit-learn) (1.4.2)\n",
      "Requirement already satisfied: cycler>=0.10 in c:\\users\\1cnac\\onedrive\\documentos\\ingeniería matemática\\inteligencia artificial\\b\\env\\lib\\site-packages (from matplotlib) (0.12.1)\n",
      "Requirement already satisfied: kiwisolver>=1.3.1 in c:\\users\\1cnac\\onedrive\\documentos\\ingeniería matemática\\inteligencia artificial\\b\\env\\lib\\site-packages (from matplotlib) (1.4.8)\n",
      "Requirement already satisfied: pyparsing>=2.3.1 in c:\\users\\1cnac\\onedrive\\documentos\\ingeniería matemática\\inteligencia artificial\\b\\env\\lib\\site-packages (from matplotlib) (3.2.3)\n",
      "Requirement already satisfied: contourpy>=1.0.1 in c:\\users\\1cnac\\onedrive\\documentos\\ingeniería matemática\\inteligencia artificial\\b\\env\\lib\\site-packages (from matplotlib) (1.3.2)\n",
      "Requirement already satisfied: packaging>=20.0 in c:\\users\\1cnac\\onedrive\\documentos\\ingeniería matemática\\inteligencia artificial\\b\\env\\lib\\site-packages (from matplotlib) (24.2)\n",
      "Requirement already satisfied: fonttools>=4.22.0 in c:\\users\\1cnac\\onedrive\\documentos\\ingeniería matemática\\inteligencia artificial\\b\\env\\lib\\site-packages (from matplotlib) (4.57.0)\n",
      "Requirement already satisfied: pillow>=8 in c:\\users\\1cnac\\onedrive\\documentos\\ingeniería matemática\\inteligencia artificial\\b\\env\\lib\\site-packages (from matplotlib) (11.2.1)\n",
      "Requirement already satisfied: six>=1.5 in c:\\users\\1cnac\\onedrive\\documentos\\ingeniería matemática\\inteligencia artificial\\b\\env\\lib\\site-packages (from python-dateutil>=2.8.2->pandas) (1.17.0)\n"
     ]
    },
    {
     "name": "stderr",
     "output_type": "stream",
     "text": [
      "WARNING: You are using pip version 21.2.3; however, version 25.0.1 is available.\n",
      "You should consider upgrading via the 'c:\\Users\\1cnac\\OneDrive\\Documentos\\INGENIERÍA MATEMÁTICA\\Inteligencia Artificial\\b\\env\\Scripts\\python.exe -m pip install --upgrade pip' command.\n"
     ]
    },
    {
     "data": {
      "application/vnd.microsoft.datawrangler.viewer.v0+json": {
       "columns": [
        {
         "name": "ID",
         "rawType": "object",
         "type": "string"
        },
        {
         "name": "Genero",
         "rawType": "object",
         "type": "string"
        },
        {
         "name": "Casado",
         "rawType": "object",
         "type": "string"
        },
        {
         "name": "Edad",
         "rawType": "int64",
         "type": "integer"
        },
        {
         "name": "Graduado",
         "rawType": "object",
         "type": "string"
        },
        {
         "name": "Profesion",
         "rawType": "object",
         "type": "string"
        },
        {
         "name": "Experiencia_laboral",
         "rawType": "object",
         "type": "string"
        },
        {
         "name": "Gastoscore",
         "rawType": "object",
         "type": "string"
        },
        {
         "name": "Family_Size",
         "rawType": "int64",
         "type": "integer"
        },
        {
         "name": "anno_nacimiento",
         "rawType": "int64",
         "type": "integer"
        },
        {
         "name": "Generacion",
         "rawType": "object",
         "type": "string"
        },
        {
         "name": "Ingresos_anuales_brutos",
         "rawType": "int64",
         "type": "integer"
        },
        {
         "name": "Provincia",
         "rawType": "object",
         "type": "string"
        },
        {
         "name": "Digital_encuesta",
         "rawType": "int64",
         "type": "integer"
        },
        {
         "name": "Gasto_medio_mensual_cuota",
         "rawType": "int64",
         "type": "integer"
        },
        {
         "name": "Abandono",
         "rawType": "int64",
         "type": "integer"
        },
        {
         "name": "Dias_cliente",
         "rawType": "int64",
         "type": "integer"
        },
        {
         "name": "Campanna_anno",
         "rawType": "float64",
         "type": "float"
        }
       ],
       "conversionMethod": "pd.DataFrame",
       "ref": "84cbaab4-1e64-493b-babf-719537e49090",
       "rows": [
        [
         "CLI10",
         "F",
         "Si",
         "67",
         "Si",
         "Ingeniero",
         "+20annos",
         "Bajo",
         "3",
         "1957",
         "Generacion X",
         "93442",
         "Segovia",
         "1385",
         "80",
         "1",
         "195",
         null
        ],
        [
         "CLI100",
         "M",
         "Si",
         "64",
         "Si",
         "Medico",
         "+20annos",
         "Medio",
         "2",
         "1960",
         "Generacion X",
         "99774",
         "Alicante",
         "1052",
         "50",
         "1",
         "360",
         "5.0"
        ],
        [
         "CLI1000",
         "M",
         "Si",
         "65",
         "Si",
         "Artista",
         "+20annos",
         "Medio",
         "3",
         "1959",
         "Generacion X",
         "36756",
         "Toledo",
         "1717",
         "30",
         "0",
         "407",
         "3.0"
        ],
        [
         "CLI10000",
         "M",
         "No",
         "33",
         "No",
         "Funcionario",
         "10-20annos",
         "Bajo",
         "4",
         "1991",
         "Millennials",
         "24616",
         "Leon",
         "1606",
         "30",
         "0",
         "544",
         "4.0"
        ],
        [
         "CLI10001",
         "M",
         "Si",
         "52",
         "No",
         "Otros",
         "+20annos",
         "Medio",
         "2",
         "1972",
         "Generacion X",
         "29834",
         "LLeida",
         "1346",
         "30",
         "1",
         "170",
         null
        ]
       ],
       "shape": {
        "columns": 17,
        "rows": 5
       }
      },
      "text/html": [
       "<div>\n",
       "<style scoped>\n",
       "    .dataframe tbody tr th:only-of-type {\n",
       "        vertical-align: middle;\n",
       "    }\n",
       "\n",
       "    .dataframe tbody tr th {\n",
       "        vertical-align: top;\n",
       "    }\n",
       "\n",
       "    .dataframe thead th {\n",
       "        text-align: right;\n",
       "    }\n",
       "</style>\n",
       "<table border=\"1\" class=\"dataframe\">\n",
       "  <thead>\n",
       "    <tr style=\"text-align: right;\">\n",
       "      <th></th>\n",
       "      <th>Genero</th>\n",
       "      <th>Casado</th>\n",
       "      <th>Edad</th>\n",
       "      <th>Graduado</th>\n",
       "      <th>Profesion</th>\n",
       "      <th>Experiencia_laboral</th>\n",
       "      <th>Gastoscore</th>\n",
       "      <th>Family_Size</th>\n",
       "      <th>anno_nacimiento</th>\n",
       "      <th>Generacion</th>\n",
       "      <th>Ingresos_anuales_brutos</th>\n",
       "      <th>Provincia</th>\n",
       "      <th>Digital_encuesta</th>\n",
       "      <th>Gasto_medio_mensual_cuota</th>\n",
       "      <th>Abandono</th>\n",
       "      <th>Dias_cliente</th>\n",
       "      <th>Campanna_anno</th>\n",
       "    </tr>\n",
       "    <tr>\n",
       "      <th>ID</th>\n",
       "      <th></th>\n",
       "      <th></th>\n",
       "      <th></th>\n",
       "      <th></th>\n",
       "      <th></th>\n",
       "      <th></th>\n",
       "      <th></th>\n",
       "      <th></th>\n",
       "      <th></th>\n",
       "      <th></th>\n",
       "      <th></th>\n",
       "      <th></th>\n",
       "      <th></th>\n",
       "      <th></th>\n",
       "      <th></th>\n",
       "      <th></th>\n",
       "      <th></th>\n",
       "    </tr>\n",
       "  </thead>\n",
       "  <tbody>\n",
       "    <tr>\n",
       "      <th>CLI10</th>\n",
       "      <td>F</td>\n",
       "      <td>Si</td>\n",
       "      <td>67</td>\n",
       "      <td>Si</td>\n",
       "      <td>Ingeniero</td>\n",
       "      <td>+20annos</td>\n",
       "      <td>Bajo</td>\n",
       "      <td>3</td>\n",
       "      <td>1957</td>\n",
       "      <td>Generacion X</td>\n",
       "      <td>93442</td>\n",
       "      <td>Segovia</td>\n",
       "      <td>1385</td>\n",
       "      <td>80</td>\n",
       "      <td>1</td>\n",
       "      <td>195</td>\n",
       "      <td>NaN</td>\n",
       "    </tr>\n",
       "    <tr>\n",
       "      <th>CLI100</th>\n",
       "      <td>M</td>\n",
       "      <td>Si</td>\n",
       "      <td>64</td>\n",
       "      <td>Si</td>\n",
       "      <td>Medico</td>\n",
       "      <td>+20annos</td>\n",
       "      <td>Medio</td>\n",
       "      <td>2</td>\n",
       "      <td>1960</td>\n",
       "      <td>Generacion X</td>\n",
       "      <td>99774</td>\n",
       "      <td>Alicante</td>\n",
       "      <td>1052</td>\n",
       "      <td>50</td>\n",
       "      <td>1</td>\n",
       "      <td>360</td>\n",
       "      <td>5.0</td>\n",
       "    </tr>\n",
       "    <tr>\n",
       "      <th>CLI1000</th>\n",
       "      <td>M</td>\n",
       "      <td>Si</td>\n",
       "      <td>65</td>\n",
       "      <td>Si</td>\n",
       "      <td>Artista</td>\n",
       "      <td>+20annos</td>\n",
       "      <td>Medio</td>\n",
       "      <td>3</td>\n",
       "      <td>1959</td>\n",
       "      <td>Generacion X</td>\n",
       "      <td>36756</td>\n",
       "      <td>Toledo</td>\n",
       "      <td>1717</td>\n",
       "      <td>30</td>\n",
       "      <td>0</td>\n",
       "      <td>407</td>\n",
       "      <td>3.0</td>\n",
       "    </tr>\n",
       "    <tr>\n",
       "      <th>CLI10000</th>\n",
       "      <td>M</td>\n",
       "      <td>No</td>\n",
       "      <td>33</td>\n",
       "      <td>No</td>\n",
       "      <td>Funcionario</td>\n",
       "      <td>10-20annos</td>\n",
       "      <td>Bajo</td>\n",
       "      <td>4</td>\n",
       "      <td>1991</td>\n",
       "      <td>Millennials</td>\n",
       "      <td>24616</td>\n",
       "      <td>Leon</td>\n",
       "      <td>1606</td>\n",
       "      <td>30</td>\n",
       "      <td>0</td>\n",
       "      <td>544</td>\n",
       "      <td>4.0</td>\n",
       "    </tr>\n",
       "    <tr>\n",
       "      <th>CLI10001</th>\n",
       "      <td>M</td>\n",
       "      <td>Si</td>\n",
       "      <td>52</td>\n",
       "      <td>No</td>\n",
       "      <td>Otros</td>\n",
       "      <td>+20annos</td>\n",
       "      <td>Medio</td>\n",
       "      <td>2</td>\n",
       "      <td>1972</td>\n",
       "      <td>Generacion X</td>\n",
       "      <td>29834</td>\n",
       "      <td>LLeida</td>\n",
       "      <td>1346</td>\n",
       "      <td>30</td>\n",
       "      <td>1</td>\n",
       "      <td>170</td>\n",
       "      <td>NaN</td>\n",
       "    </tr>\n",
       "  </tbody>\n",
       "</table>\n",
       "</div>"
      ],
      "text/plain": [
       "         Genero Casado  Edad Graduado    Profesion Experiencia_laboral  \\\n",
       "ID                                                                       \n",
       "CLI10         F     Si    67       Si    Ingeniero            +20annos   \n",
       "CLI100        M     Si    64       Si       Medico            +20annos   \n",
       "CLI1000       M     Si    65       Si      Artista            +20annos   \n",
       "CLI10000      M     No    33       No  Funcionario          10-20annos   \n",
       "CLI10001      M     Si    52       No        Otros            +20annos   \n",
       "\n",
       "         Gastoscore  Family_Size  anno_nacimiento    Generacion  \\\n",
       "ID                                                                \n",
       "CLI10          Bajo            3             1957  Generacion X   \n",
       "CLI100        Medio            2             1960  Generacion X   \n",
       "CLI1000       Medio            3             1959  Generacion X   \n",
       "CLI10000       Bajo            4             1991   Millennials   \n",
       "CLI10001      Medio            2             1972  Generacion X   \n",
       "\n",
       "          Ingresos_anuales_brutos Provincia  Digital_encuesta  \\\n",
       "ID                                                              \n",
       "CLI10                       93442   Segovia              1385   \n",
       "CLI100                      99774  Alicante              1052   \n",
       "CLI1000                     36756    Toledo              1717   \n",
       "CLI10000                    24616      Leon              1606   \n",
       "CLI10001                    29834    LLeida              1346   \n",
       "\n",
       "          Gasto_medio_mensual_cuota  Abandono  Dias_cliente  Campanna_anno  \n",
       "ID                                                                          \n",
       "CLI10                            80         1           195            NaN  \n",
       "CLI100                           50         1           360            5.0  \n",
       "CLI1000                          30         0           407            3.0  \n",
       "CLI10000                         30         0           544            4.0  \n",
       "CLI10001                         30         1           170            NaN  "
      ]
     },
     "execution_count": 544,
     "metadata": {},
     "output_type": "execute_result"
    }
   ],
   "source": [
    "#  Paso 1: Importar librerías necesarias\n",
    "%pip install pandas numpy scikit-learn seaborn matplotlib\n",
    "\n",
    "import pandas as pd\n",
    "import numpy as np\n",
    "from sklearn.preprocessing import LabelEncoder, StandardScaler, OneHotEncoder, OrdinalEncoder\n",
    "import seaborn as sns\n",
    "import matplotlib.pyplot as plt\n",
    "\n",
    "#  Paso 2: Cargar datos\n",
    "ruta = \"../data/IA_Client_Segment_MODIFICADO.csv\"  # ajusta la ruta si es necesario\n",
    "df = pd.read_csv(ruta)\n",
    "df.set_index('ID', inplace=True)  # Establecer la columna 'ID' como índice del DataFrame\n",
    "df.head()"
   ]
  },
  {
   "cell_type": "code",
   "execution_count": 545,
   "metadata": {},
   "outputs": [
    {
     "data": {
      "text/plain": [
       "(10806, 17)"
      ]
     },
     "execution_count": 545,
     "metadata": {},
     "output_type": "execute_result"
    }
   ],
   "source": [
    "df.shape"
   ]
  },
  {
   "cell_type": "code",
   "execution_count": 546,
   "metadata": {},
   "outputs": [
    {
     "name": "stdout",
     "output_type": "stream",
     "text": [
      "<class 'pandas.core.frame.DataFrame'>\n",
      "Index: 10806 entries, CLI10 to CLI9999\n",
      "Data columns (total 17 columns):\n",
      " #   Column                     Non-Null Count  Dtype  \n",
      "---  ------                     --------------  -----  \n",
      " 0   Genero                     10806 non-null  object \n",
      " 1   Casado                     10616 non-null  object \n",
      " 2   Edad                       10806 non-null  int64  \n",
      " 3   Graduado                   10703 non-null  object \n",
      " 4   Profesion                  10806 non-null  object \n",
      " 5   Experiencia_laboral        10806 non-null  object \n",
      " 6   Gastoscore                 10806 non-null  object \n",
      " 7   Family_Size                10806 non-null  int64  \n",
      " 8   anno_nacimiento            10806 non-null  int64  \n",
      " 9   Generacion                 10806 non-null  object \n",
      " 10  Ingresos_anuales_brutos    10806 non-null  int64  \n",
      " 11  Provincia                  10806 non-null  object \n",
      " 12  Digital_encuesta           10806 non-null  int64  \n",
      " 13  Gasto_medio_mensual_cuota  10806 non-null  int64  \n",
      " 14  Abandono                   10806 non-null  int64  \n",
      " 15  Dias_cliente               10806 non-null  int64  \n",
      " 16  Campanna_anno              5099 non-null   float64\n",
      "dtypes: float64(1), int64(8), object(8)\n",
      "memory usage: 1.5+ MB\n"
     ]
    }
   ],
   "source": [
    "df.info()"
   ]
  },
  {
   "cell_type": "code",
   "execution_count": 547,
   "metadata": {},
   "outputs": [
    {
     "data": {
      "text/plain": [
       "Genero                        object\n",
       "Casado                        object\n",
       "Edad                           int64\n",
       "Graduado                      object\n",
       "Profesion                     object\n",
       "Experiencia_laboral           object\n",
       "Gastoscore                    object\n",
       "Family_Size                    int64\n",
       "anno_nacimiento                int64\n",
       "Generacion                    object\n",
       "Ingresos_anuales_brutos        int64\n",
       "Provincia                     object\n",
       "Digital_encuesta               int64\n",
       "Gasto_medio_mensual_cuota      int64\n",
       "Abandono                       int64\n",
       "Dias_cliente                   int64\n",
       "Campanna_anno                float64\n",
       "dtype: object"
      ]
     },
     "execution_count": 547,
     "metadata": {},
     "output_type": "execute_result"
    }
   ],
   "source": [
    "df.dtypes"
   ]
  },
  {
   "cell_type": "code",
   "execution_count": 548,
   "metadata": {},
   "outputs": [
    {
     "data": {
      "text/plain": [
       "Index(['Genero', 'Casado', 'Edad', 'Graduado', 'Profesion',\n",
       "       'Experiencia_laboral', 'Gastoscore', 'Family_Size', 'anno_nacimiento',\n",
       "       'Generacion', 'Ingresos_anuales_brutos', 'Provincia',\n",
       "       'Digital_encuesta', 'Gasto_medio_mensual_cuota', 'Abandono',\n",
       "       'Dias_cliente', 'Campanna_anno'],\n",
       "      dtype='object')"
      ]
     },
     "execution_count": 548,
     "metadata": {},
     "output_type": "execute_result"
    }
   ],
   "source": [
    "df.columns"
   ]
  },
  {
   "cell_type": "code",
   "execution_count": 549,
   "metadata": {},
   "outputs": [
    {
     "data": {
      "application/vnd.microsoft.datawrangler.viewer.v0+json": {
       "columns": [
        {
         "name": "ID",
         "rawType": "object",
         "type": "string"
        },
        {
         "name": "Genero",
         "rawType": "object",
         "type": "string"
        },
        {
         "name": "Casado",
         "rawType": "object",
         "type": "string"
        },
        {
         "name": "Edad",
         "rawType": "int64",
         "type": "integer"
        },
        {
         "name": "Graduado",
         "rawType": "object",
         "type": "string"
        },
        {
         "name": "Profesion",
         "rawType": "object",
         "type": "string"
        },
        {
         "name": "Experiencia_laboral",
         "rawType": "object",
         "type": "string"
        },
        {
         "name": "Gastoscore",
         "rawType": "object",
         "type": "string"
        },
        {
         "name": "Family_Size",
         "rawType": "int64",
         "type": "integer"
        },
        {
         "name": "anno_nacimiento",
         "rawType": "int64",
         "type": "integer"
        },
        {
         "name": "Generacion",
         "rawType": "object",
         "type": "string"
        },
        {
         "name": "Ingresos_anuales_brutos",
         "rawType": "int64",
         "type": "integer"
        },
        {
         "name": "Provincia",
         "rawType": "object",
         "type": "string"
        },
        {
         "name": "Digital_encuesta",
         "rawType": "int64",
         "type": "integer"
        },
        {
         "name": "Gasto_medio_mensual_cuota",
         "rawType": "int64",
         "type": "integer"
        },
        {
         "name": "Abandono",
         "rawType": "int64",
         "type": "integer"
        },
        {
         "name": "Dias_cliente",
         "rawType": "int64",
         "type": "integer"
        },
        {
         "name": "Campanna_anno",
         "rawType": "float64",
         "type": "float"
        }
       ],
       "conversionMethod": "pd.DataFrame",
       "ref": "3c2a3b08-fa19-4360-be63-23b3cd644897",
       "rows": [
        [
         "CLI10",
         "F",
         "Si",
         "67",
         "Si",
         "Ingeniero",
         "+20annos",
         "Bajo",
         "3",
         "1957",
         "Generacion X",
         "93442",
         "Segovia",
         "1385",
         "80",
         "1",
         "195",
         null
        ],
        [
         "CLI100",
         "M",
         "Si",
         "64",
         "Si",
         "Medico",
         "+20annos",
         "Medio",
         "2",
         "1960",
         "Generacion X",
         "99774",
         "Alicante",
         "1052",
         "50",
         "1",
         "360",
         "5.0"
        ],
        [
         "CLI1000",
         "M",
         "Si",
         "65",
         "Si",
         "Artista",
         "+20annos",
         "Medio",
         "3",
         "1959",
         "Generacion X",
         "36756",
         "Toledo",
         "1717",
         "30",
         "0",
         "407",
         "3.0"
        ]
       ],
       "shape": {
        "columns": 17,
        "rows": 3
       }
      },
      "text/html": [
       "<div>\n",
       "<style scoped>\n",
       "    .dataframe tbody tr th:only-of-type {\n",
       "        vertical-align: middle;\n",
       "    }\n",
       "\n",
       "    .dataframe tbody tr th {\n",
       "        vertical-align: top;\n",
       "    }\n",
       "\n",
       "    .dataframe thead th {\n",
       "        text-align: right;\n",
       "    }\n",
       "</style>\n",
       "<table border=\"1\" class=\"dataframe\">\n",
       "  <thead>\n",
       "    <tr style=\"text-align: right;\">\n",
       "      <th></th>\n",
       "      <th>Genero</th>\n",
       "      <th>Casado</th>\n",
       "      <th>Edad</th>\n",
       "      <th>Graduado</th>\n",
       "      <th>Profesion</th>\n",
       "      <th>Experiencia_laboral</th>\n",
       "      <th>Gastoscore</th>\n",
       "      <th>Family_Size</th>\n",
       "      <th>anno_nacimiento</th>\n",
       "      <th>Generacion</th>\n",
       "      <th>Ingresos_anuales_brutos</th>\n",
       "      <th>Provincia</th>\n",
       "      <th>Digital_encuesta</th>\n",
       "      <th>Gasto_medio_mensual_cuota</th>\n",
       "      <th>Abandono</th>\n",
       "      <th>Dias_cliente</th>\n",
       "      <th>Campanna_anno</th>\n",
       "    </tr>\n",
       "    <tr>\n",
       "      <th>ID</th>\n",
       "      <th></th>\n",
       "      <th></th>\n",
       "      <th></th>\n",
       "      <th></th>\n",
       "      <th></th>\n",
       "      <th></th>\n",
       "      <th></th>\n",
       "      <th></th>\n",
       "      <th></th>\n",
       "      <th></th>\n",
       "      <th></th>\n",
       "      <th></th>\n",
       "      <th></th>\n",
       "      <th></th>\n",
       "      <th></th>\n",
       "      <th></th>\n",
       "      <th></th>\n",
       "    </tr>\n",
       "  </thead>\n",
       "  <tbody>\n",
       "    <tr>\n",
       "      <th>CLI10</th>\n",
       "      <td>F</td>\n",
       "      <td>Si</td>\n",
       "      <td>67</td>\n",
       "      <td>Si</td>\n",
       "      <td>Ingeniero</td>\n",
       "      <td>+20annos</td>\n",
       "      <td>Bajo</td>\n",
       "      <td>3</td>\n",
       "      <td>1957</td>\n",
       "      <td>Generacion X</td>\n",
       "      <td>93442</td>\n",
       "      <td>Segovia</td>\n",
       "      <td>1385</td>\n",
       "      <td>80</td>\n",
       "      <td>1</td>\n",
       "      <td>195</td>\n",
       "      <td>NaN</td>\n",
       "    </tr>\n",
       "    <tr>\n",
       "      <th>CLI100</th>\n",
       "      <td>M</td>\n",
       "      <td>Si</td>\n",
       "      <td>64</td>\n",
       "      <td>Si</td>\n",
       "      <td>Medico</td>\n",
       "      <td>+20annos</td>\n",
       "      <td>Medio</td>\n",
       "      <td>2</td>\n",
       "      <td>1960</td>\n",
       "      <td>Generacion X</td>\n",
       "      <td>99774</td>\n",
       "      <td>Alicante</td>\n",
       "      <td>1052</td>\n",
       "      <td>50</td>\n",
       "      <td>1</td>\n",
       "      <td>360</td>\n",
       "      <td>5.0</td>\n",
       "    </tr>\n",
       "    <tr>\n",
       "      <th>CLI1000</th>\n",
       "      <td>M</td>\n",
       "      <td>Si</td>\n",
       "      <td>65</td>\n",
       "      <td>Si</td>\n",
       "      <td>Artista</td>\n",
       "      <td>+20annos</td>\n",
       "      <td>Medio</td>\n",
       "      <td>3</td>\n",
       "      <td>1959</td>\n",
       "      <td>Generacion X</td>\n",
       "      <td>36756</td>\n",
       "      <td>Toledo</td>\n",
       "      <td>1717</td>\n",
       "      <td>30</td>\n",
       "      <td>0</td>\n",
       "      <td>407</td>\n",
       "      <td>3.0</td>\n",
       "    </tr>\n",
       "  </tbody>\n",
       "</table>\n",
       "</div>"
      ],
      "text/plain": [
       "        Genero Casado  Edad Graduado  Profesion Experiencia_laboral  \\\n",
       "ID                                                                    \n",
       "CLI10        F     Si    67       Si  Ingeniero            +20annos   \n",
       "CLI100       M     Si    64       Si     Medico            +20annos   \n",
       "CLI1000      M     Si    65       Si    Artista            +20annos   \n",
       "\n",
       "        Gastoscore  Family_Size  anno_nacimiento    Generacion  \\\n",
       "ID                                                               \n",
       "CLI10         Bajo            3             1957  Generacion X   \n",
       "CLI100       Medio            2             1960  Generacion X   \n",
       "CLI1000      Medio            3             1959  Generacion X   \n",
       "\n",
       "         Ingresos_anuales_brutos Provincia  Digital_encuesta  \\\n",
       "ID                                                             \n",
       "CLI10                      93442   Segovia              1385   \n",
       "CLI100                     99774  Alicante              1052   \n",
       "CLI1000                    36756    Toledo              1717   \n",
       "\n",
       "         Gasto_medio_mensual_cuota  Abandono  Dias_cliente  Campanna_anno  \n",
       "ID                                                                         \n",
       "CLI10                           80         1           195            NaN  \n",
       "CLI100                          50         1           360            5.0  \n",
       "CLI1000                         30         0           407            3.0  "
      ]
     },
     "execution_count": 549,
     "metadata": {},
     "output_type": "execute_result"
    }
   ],
   "source": [
    "df.head(3)"
   ]
  },
  {
   "cell_type": "code",
   "execution_count": 550,
   "metadata": {},
   "outputs": [
    {
     "data": {
      "text/plain": [
       "Genero                          0\n",
       "Casado                        190\n",
       "Edad                            0\n",
       "Graduado                      103\n",
       "Profesion                       0\n",
       "Experiencia_laboral             0\n",
       "Gastoscore                      0\n",
       "Family_Size                     0\n",
       "anno_nacimiento                 0\n",
       "Generacion                      0\n",
       "Ingresos_anuales_brutos         0\n",
       "Provincia                       0\n",
       "Digital_encuesta                0\n",
       "Gasto_medio_mensual_cuota       0\n",
       "Abandono                        0\n",
       "Dias_cliente                    0\n",
       "Campanna_anno                5707\n",
       "dtype: int64"
      ]
     },
     "execution_count": 550,
     "metadata": {},
     "output_type": "execute_result"
    }
   ],
   "source": [
    "df.isnull().sum()"
   ]
  },
  {
   "cell_type": "code",
   "execution_count": 551,
   "metadata": {},
   "outputs": [
    {
     "data": {
      "text/plain": [
       "array([nan,  5.,  3.,  4.,  1.])"
      ]
     },
     "execution_count": 551,
     "metadata": {},
     "output_type": "execute_result"
    }
   ],
   "source": [
    "df['Campanna_anno'].unique()"
   ]
  },
  {
   "cell_type": "code",
   "execution_count": 552,
   "metadata": {},
   "outputs": [
    {
     "data": {
      "text/plain": [
       "array(['Ingeniero', 'Medico', 'Artista', 'Funcionario', 'Otros',\n",
       "       'Ejecutivo', 'Construccion', 'Negocios/empresa', 'Servicios'],\n",
       "      dtype=object)"
      ]
     },
     "execution_count": 552,
     "metadata": {},
     "output_type": "execute_result"
    }
   ],
   "source": [
    "df['Profesion'].unique()"
   ]
  },
  {
   "cell_type": "code",
   "execution_count": 553,
   "metadata": {},
   "outputs": [
    {
     "data": {
      "text/plain": [
       "array(['Bajo', 'Medio', 'Alto'], dtype=object)"
      ]
     },
     "execution_count": 553,
     "metadata": {},
     "output_type": "execute_result"
    }
   ],
   "source": [
    "df['Gastoscore'].unique()"
   ]
  },
  {
   "cell_type": "code",
   "execution_count": 554,
   "metadata": {},
   "outputs": [
    {
     "data": {
      "text/plain": [
       "array(['Segovia', 'Alicante', 'Toledo', 'Leon', 'LLeida', 'Ciudad Real',\n",
       "       'i\\x81vila', 'Guipiºzcoa', 'Vizcaya', 'Orense', 'Castellon',\n",
       "       'Pontevedra', 'Almeri\\xada', 'Valladolid', 'Jaen', 'Lugo',\n",
       "       'Santa Cruz de Tenerife', 'Albacete', 'Huelva', 'Salamanca',\n",
       "       'Ceuta', 'Baleares', 'Gerona', 'Barcelona', 'Sevilla',\n",
       "       'Guadalajara', 'Soria', 'Caceres', 'Madrid', 'Cordoba', 'Burgos',\n",
       "       'Cadiz', 'Navarra', 'Melilla', 'Granada', 'Badajoz', 'Valencia',\n",
       "       'Tarragona', 'La Corui±a', 'Las Palmas', 'Murcia', 'Palencia',\n",
       "       'La Rioja', 'Teruel', 'Zamora', 'Zaragoza', 'i\\x81lava', 'Cuenca',\n",
       "       'Huesca', 'Malaga'], dtype=object)"
      ]
     },
     "execution_count": 554,
     "metadata": {},
     "output_type": "execute_result"
    }
   ],
   "source": [
    "df['Provincia'].unique()"
   ]
  },
  {
   "cell_type": "code",
   "execution_count": 555,
   "metadata": {},
   "outputs": [
    {
     "data": {
      "text/plain": [
       "array(['Segovia', 'Alicante', 'Toledo', 'Leon', 'LLeida', 'Ciudad Real',\n",
       "       'Avila', 'Guipuzcoa', 'Vizcaya', 'Orense', 'Castellon',\n",
       "       'Pontevedra', 'Almeria', 'Valladolid', 'Jaen', 'Lugo',\n",
       "       'Santa Cruz de Tenerife', 'Albacete', 'Huelva', 'Salamanca',\n",
       "       'Ceuta', 'Baleares', 'Gerona', 'Barcelona', 'Sevilla',\n",
       "       'Guadalajara', 'Soria', 'Caceres', 'Madrid', 'Cordoba', 'Burgos',\n",
       "       'Cadiz', 'Navarra', 'Melilla', 'Granada', 'Badajoz', 'Valencia',\n",
       "       'Tarragona', 'La Corunna', 'Las Palmas', 'Murcia', 'Palencia',\n",
       "       'La Rioja', 'Teruel', 'Zamora', 'Zaragoza', 'Alava', 'Cuenca',\n",
       "       'Huesca', 'Malaga'], dtype=object)"
      ]
     },
     "execution_count": 555,
     "metadata": {},
     "output_type": "execute_result"
    }
   ],
   "source": [
    "# Diccionario de reemplazo\n",
    "reemplazos_provincias = {\n",
    "    'i\\x81vila': 'Avila',\n",
    "    'Guipiºzcoa': 'Guipuzcoa',\n",
    "    'Almeri\\xada': 'Almeria',\n",
    "    'La Corui±a': 'La Corunna',\n",
    "    'i\\x81lava': 'Alava'\n",
    "}\n",
    "\n",
    "# Reemplazo directo\n",
    "df['Provincia'] = df['Provincia'].replace(reemplazos_provincias)\n",
    "\n",
    "# Verifica\n",
    "df['Provincia'].unique()"
   ]
  },
  {
   "cell_type": "code",
   "execution_count": 556,
   "metadata": {},
   "outputs": [],
   "source": [
    "mapa_comunidad_autonoma = {\n",
    "    'Andalucia': ['Almeria', 'Jaen', 'Huelva', 'Sevilla', 'Cordoba', 'Granada', 'Malaga', 'Cadiz'],\n",
    "    'Aragon': ['Huesca', 'Teruel', 'Zaragoza'],\n",
    "    'Islas Baleares': ['Baleares'],\n",
    "    'Canarias': ['Las Palmas', 'Santa Cruz de Tenerife'],\n",
    "    'Castilla y Leon': ['Avila', 'Burgos', 'Leon', 'Palencia', 'Salamanca', 'Segovia', 'Soria', 'Valladolid', 'Zamora'],\n",
    "    'Castilla La Mancha': ['Albacete', 'Ciudad Real', 'Cuenca', 'Guadalajara', 'Toledo'],\n",
    "    'Catalunya': ['Barcelona', 'Gerona', 'LLeida', 'Tarragona'],\n",
    "    'Extremadura': ['Badajoz', 'Caceres'],\n",
    "    'Galicia': ['La Corunna', 'Lugo', 'Orense', 'Pontevedra'],\n",
    "    'Madrid': ['Madrid'],\n",
    "    'Murcia': ['Murcia'],\n",
    "    'Comunidad Valenciana': ['Alicante', 'Castellon', 'Valencia'],\n",
    "    'Navarra': ['Navarra'],\n",
    "    'Pais Vasco': ['Alava', 'Guipuzcoa', 'Vizcaya'],\n",
    "    'Rioja': ['La Rioja'],\n",
    "    'Ceuta y Melilla': ['Ceuta', 'Melilla'],\n",
    "\n",
    "}"
   ]
  },
  {
   "cell_type": "code",
   "execution_count": 557,
   "metadata": {},
   "outputs": [],
   "source": [
    "def assign_comunidad_autonoma(Provincia):\n",
    "    for comunidad, provincias in mapa_comunidad_autonoma.items():\n",
    "        if Provincia in provincias:\n",
    "            return comunidad\n",
    "    return 'Desconocida'"
   ]
  },
  {
   "cell_type": "code",
   "execution_count": 558,
   "metadata": {},
   "outputs": [],
   "source": [
    "df['comunidad_autonoma'] = df['Provincia'].map(assign_comunidad_autonoma)"
   ]
  },
  {
   "cell_type": "code",
   "execution_count": 559,
   "metadata": {},
   "outputs": [
    {
     "data": {
      "text/plain": [
       "array(['Castilla y Leon', 'Comunidad Valenciana', 'Castilla La Mancha',\n",
       "       'Catalunya', 'Pais Vasco', 'Galicia', 'Andalucia', 'Canarias',\n",
       "       'Ceuta y Melilla', 'Islas Baleares', 'Extremadura', 'Madrid',\n",
       "       'Navarra', 'Murcia', 'Rioja', 'Aragon'], dtype=object)"
      ]
     },
     "execution_count": 559,
     "metadata": {},
     "output_type": "execute_result"
    }
   ],
   "source": [
    "df['comunidad_autonoma'].unique()"
   ]
  },
  {
   "cell_type": "code",
   "execution_count": 560,
   "metadata": {},
   "outputs": [
    {
     "name": "stdout",
     "output_type": "stream",
     "text": [
      "Lista de países con 'continent' como None:\n",
      "[]\n"
     ]
    }
   ],
   "source": [
    "provincia_sin_comunidad = df[df['comunidad_autonoma'].isnull()]['Provincia'].unique()\n",
    "\n",
    "# Mostrar la lista de países con 'continent' como None\n",
    "print(\"Lista de países con 'continent' como None:\")\n",
    "print(provincia_sin_comunidad)"
   ]
  },
  {
   "cell_type": "code",
   "execution_count": 561,
   "metadata": {},
   "outputs": [],
   "source": [
    "df.drop(columns=['Provincia'], inplace=True)  # Eliminar la columna 'Provincia'"
   ]
  },
  {
   "cell_type": "code",
   "execution_count": 562,
   "metadata": {},
   "outputs": [],
   "source": [
    "zonas = {\n",
    "    'Norte': ['Galicia', 'Rioja', 'Pais Vasco', 'Navarra'],\n",
    "    'Sur': ['Andalucia', 'Murcia', 'Canarias', 'Ceuta y Melilla'],\n",
    "    'Este': ['Catalunya', 'Aragon', 'Comunidad Valenciana', 'Islas Baleares'],\n",
    "    'Oeste': ['Castilla y Leon', 'Castilla La Mancha', 'Extremadura', 'Madrid']\n",
    "}"
   ]
  },
  {
   "cell_type": "code",
   "execution_count": 563,
   "metadata": {},
   "outputs": [
    {
     "data": {
      "text/plain": [
       "array(['Oeste', 'Este', 'Norte', 'Sur'], dtype=object)"
      ]
     },
     "execution_count": 563,
     "metadata": {},
     "output_type": "execute_result"
    }
   ],
   "source": [
    "# Pasar de comunidad autónoma a zona\n",
    "def asignar_zona(comunidad_autonoma):\n",
    "    for zona, comunidades in zonas.items():\n",
    "        if comunidad_autonoma in comunidades:\n",
    "            return zona\n",
    "    return 'Desconocida'\n",
    "\n",
    "df['zonas'] = df['comunidad_autonoma'].map(asignar_zona)\n",
    "df['zonas'].unique()"
   ]
  },
  {
   "cell_type": "code",
   "execution_count": 564,
   "metadata": {},
   "outputs": [],
   "source": [
    "df.drop(columns=['comunidad_autonoma'], inplace=True)"
   ]
  },
  {
   "cell_type": "code",
   "execution_count": 565,
   "metadata": {},
   "outputs": [
    {
     "data": {
      "application/vnd.microsoft.datawrangler.viewer.v0+json": {
       "columns": [
        {
         "name": "ID",
         "rawType": "object",
         "type": "string"
        },
        {
         "name": "Genero",
         "rawType": "object",
         "type": "string"
        },
        {
         "name": "Casado",
         "rawType": "object",
         "type": "string"
        },
        {
         "name": "Edad",
         "rawType": "int64",
         "type": "integer"
        },
        {
         "name": "Graduado",
         "rawType": "object",
         "type": "string"
        },
        {
         "name": "Profesion",
         "rawType": "object",
         "type": "string"
        },
        {
         "name": "Experiencia_laboral",
         "rawType": "object",
         "type": "string"
        },
        {
         "name": "Gastoscore",
         "rawType": "object",
         "type": "string"
        },
        {
         "name": "Family_Size",
         "rawType": "int64",
         "type": "integer"
        },
        {
         "name": "anno_nacimiento",
         "rawType": "int64",
         "type": "integer"
        },
        {
         "name": "Generacion",
         "rawType": "object",
         "type": "string"
        },
        {
         "name": "Ingresos_anuales_brutos",
         "rawType": "int64",
         "type": "integer"
        },
        {
         "name": "Digital_encuesta",
         "rawType": "int64",
         "type": "integer"
        },
        {
         "name": "Gasto_medio_mensual_cuota",
         "rawType": "int64",
         "type": "integer"
        },
        {
         "name": "Abandono",
         "rawType": "int64",
         "type": "integer"
        },
        {
         "name": "Dias_cliente",
         "rawType": "int64",
         "type": "integer"
        },
        {
         "name": "Campanna_anno",
         "rawType": "float64",
         "type": "float"
        },
        {
         "name": "zonas",
         "rawType": "object",
         "type": "string"
        }
       ],
       "conversionMethod": "pd.DataFrame",
       "ref": "9bc70865-0cb8-4d5a-ac89-c287cacb17ec",
       "rows": [
        [
         "CLI10",
         "F",
         "Si",
         "67",
         "Si",
         "Ingeniero",
         "+20annos",
         "Bajo",
         "3",
         "1957",
         "Generacion X",
         "93442",
         "1385",
         "80",
         "1",
         "195",
         null,
         "Oeste"
        ],
        [
         "CLI100",
         "M",
         "Si",
         "64",
         "Si",
         "Medico",
         "+20annos",
         "Medio",
         "2",
         "1960",
         "Generacion X",
         "99774",
         "1052",
         "50",
         "1",
         "360",
         "5.0",
         "Este"
        ],
        [
         "CLI1000",
         "M",
         "Si",
         "65",
         "Si",
         "Artista",
         "+20annos",
         "Medio",
         "3",
         "1959",
         "Generacion X",
         "36756",
         "1717",
         "30",
         "0",
         "407",
         "3.0",
         "Oeste"
        ],
        [
         "CLI10000",
         "M",
         "No",
         "33",
         "No",
         "Funcionario",
         "10-20annos",
         "Bajo",
         "4",
         "1991",
         "Millennials",
         "24616",
         "1606",
         "30",
         "0",
         "544",
         "4.0",
         "Oeste"
        ],
        [
         "CLI10001",
         "M",
         "Si",
         "52",
         "No",
         "Otros",
         "+20annos",
         "Medio",
         "2",
         "1972",
         "Generacion X",
         "29834",
         "1346",
         "30",
         "1",
         "170",
         null,
         "Este"
        ]
       ],
       "shape": {
        "columns": 17,
        "rows": 5
       }
      },
      "text/html": [
       "<div>\n",
       "<style scoped>\n",
       "    .dataframe tbody tr th:only-of-type {\n",
       "        vertical-align: middle;\n",
       "    }\n",
       "\n",
       "    .dataframe tbody tr th {\n",
       "        vertical-align: top;\n",
       "    }\n",
       "\n",
       "    .dataframe thead th {\n",
       "        text-align: right;\n",
       "    }\n",
       "</style>\n",
       "<table border=\"1\" class=\"dataframe\">\n",
       "  <thead>\n",
       "    <tr style=\"text-align: right;\">\n",
       "      <th></th>\n",
       "      <th>Genero</th>\n",
       "      <th>Casado</th>\n",
       "      <th>Edad</th>\n",
       "      <th>Graduado</th>\n",
       "      <th>Profesion</th>\n",
       "      <th>Experiencia_laboral</th>\n",
       "      <th>Gastoscore</th>\n",
       "      <th>Family_Size</th>\n",
       "      <th>anno_nacimiento</th>\n",
       "      <th>Generacion</th>\n",
       "      <th>Ingresos_anuales_brutos</th>\n",
       "      <th>Digital_encuesta</th>\n",
       "      <th>Gasto_medio_mensual_cuota</th>\n",
       "      <th>Abandono</th>\n",
       "      <th>Dias_cliente</th>\n",
       "      <th>Campanna_anno</th>\n",
       "      <th>zonas</th>\n",
       "    </tr>\n",
       "    <tr>\n",
       "      <th>ID</th>\n",
       "      <th></th>\n",
       "      <th></th>\n",
       "      <th></th>\n",
       "      <th></th>\n",
       "      <th></th>\n",
       "      <th></th>\n",
       "      <th></th>\n",
       "      <th></th>\n",
       "      <th></th>\n",
       "      <th></th>\n",
       "      <th></th>\n",
       "      <th></th>\n",
       "      <th></th>\n",
       "      <th></th>\n",
       "      <th></th>\n",
       "      <th></th>\n",
       "      <th></th>\n",
       "    </tr>\n",
       "  </thead>\n",
       "  <tbody>\n",
       "    <tr>\n",
       "      <th>CLI10</th>\n",
       "      <td>F</td>\n",
       "      <td>Si</td>\n",
       "      <td>67</td>\n",
       "      <td>Si</td>\n",
       "      <td>Ingeniero</td>\n",
       "      <td>+20annos</td>\n",
       "      <td>Bajo</td>\n",
       "      <td>3</td>\n",
       "      <td>1957</td>\n",
       "      <td>Generacion X</td>\n",
       "      <td>93442</td>\n",
       "      <td>1385</td>\n",
       "      <td>80</td>\n",
       "      <td>1</td>\n",
       "      <td>195</td>\n",
       "      <td>NaN</td>\n",
       "      <td>Oeste</td>\n",
       "    </tr>\n",
       "    <tr>\n",
       "      <th>CLI100</th>\n",
       "      <td>M</td>\n",
       "      <td>Si</td>\n",
       "      <td>64</td>\n",
       "      <td>Si</td>\n",
       "      <td>Medico</td>\n",
       "      <td>+20annos</td>\n",
       "      <td>Medio</td>\n",
       "      <td>2</td>\n",
       "      <td>1960</td>\n",
       "      <td>Generacion X</td>\n",
       "      <td>99774</td>\n",
       "      <td>1052</td>\n",
       "      <td>50</td>\n",
       "      <td>1</td>\n",
       "      <td>360</td>\n",
       "      <td>5.0</td>\n",
       "      <td>Este</td>\n",
       "    </tr>\n",
       "    <tr>\n",
       "      <th>CLI1000</th>\n",
       "      <td>M</td>\n",
       "      <td>Si</td>\n",
       "      <td>65</td>\n",
       "      <td>Si</td>\n",
       "      <td>Artista</td>\n",
       "      <td>+20annos</td>\n",
       "      <td>Medio</td>\n",
       "      <td>3</td>\n",
       "      <td>1959</td>\n",
       "      <td>Generacion X</td>\n",
       "      <td>36756</td>\n",
       "      <td>1717</td>\n",
       "      <td>30</td>\n",
       "      <td>0</td>\n",
       "      <td>407</td>\n",
       "      <td>3.0</td>\n",
       "      <td>Oeste</td>\n",
       "    </tr>\n",
       "    <tr>\n",
       "      <th>CLI10000</th>\n",
       "      <td>M</td>\n",
       "      <td>No</td>\n",
       "      <td>33</td>\n",
       "      <td>No</td>\n",
       "      <td>Funcionario</td>\n",
       "      <td>10-20annos</td>\n",
       "      <td>Bajo</td>\n",
       "      <td>4</td>\n",
       "      <td>1991</td>\n",
       "      <td>Millennials</td>\n",
       "      <td>24616</td>\n",
       "      <td>1606</td>\n",
       "      <td>30</td>\n",
       "      <td>0</td>\n",
       "      <td>544</td>\n",
       "      <td>4.0</td>\n",
       "      <td>Oeste</td>\n",
       "    </tr>\n",
       "    <tr>\n",
       "      <th>CLI10001</th>\n",
       "      <td>M</td>\n",
       "      <td>Si</td>\n",
       "      <td>52</td>\n",
       "      <td>No</td>\n",
       "      <td>Otros</td>\n",
       "      <td>+20annos</td>\n",
       "      <td>Medio</td>\n",
       "      <td>2</td>\n",
       "      <td>1972</td>\n",
       "      <td>Generacion X</td>\n",
       "      <td>29834</td>\n",
       "      <td>1346</td>\n",
       "      <td>30</td>\n",
       "      <td>1</td>\n",
       "      <td>170</td>\n",
       "      <td>NaN</td>\n",
       "      <td>Este</td>\n",
       "    </tr>\n",
       "  </tbody>\n",
       "</table>\n",
       "</div>"
      ],
      "text/plain": [
       "         Genero Casado  Edad Graduado    Profesion Experiencia_laboral  \\\n",
       "ID                                                                       \n",
       "CLI10         F     Si    67       Si    Ingeniero            +20annos   \n",
       "CLI100        M     Si    64       Si       Medico            +20annos   \n",
       "CLI1000       M     Si    65       Si      Artista            +20annos   \n",
       "CLI10000      M     No    33       No  Funcionario          10-20annos   \n",
       "CLI10001      M     Si    52       No        Otros            +20annos   \n",
       "\n",
       "         Gastoscore  Family_Size  anno_nacimiento    Generacion  \\\n",
       "ID                                                                \n",
       "CLI10          Bajo            3             1957  Generacion X   \n",
       "CLI100        Medio            2             1960  Generacion X   \n",
       "CLI1000       Medio            3             1959  Generacion X   \n",
       "CLI10000       Bajo            4             1991   Millennials   \n",
       "CLI10001      Medio            2             1972  Generacion X   \n",
       "\n",
       "          Ingresos_anuales_brutos  Digital_encuesta  \\\n",
       "ID                                                    \n",
       "CLI10                       93442              1385   \n",
       "CLI100                      99774              1052   \n",
       "CLI1000                     36756              1717   \n",
       "CLI10000                    24616              1606   \n",
       "CLI10001                    29834              1346   \n",
       "\n",
       "          Gasto_medio_mensual_cuota  Abandono  Dias_cliente  Campanna_anno  \\\n",
       "ID                                                                           \n",
       "CLI10                            80         1           195            NaN   \n",
       "CLI100                           50         1           360            5.0   \n",
       "CLI1000                          30         0           407            3.0   \n",
       "CLI10000                         30         0           544            4.0   \n",
       "CLI10001                         30         1           170            NaN   \n",
       "\n",
       "          zonas  \n",
       "ID               \n",
       "CLI10     Oeste  \n",
       "CLI100     Este  \n",
       "CLI1000   Oeste  \n",
       "CLI10000  Oeste  \n",
       "CLI10001   Este  "
      ]
     },
     "execution_count": 565,
     "metadata": {},
     "output_type": "execute_result"
    }
   ],
   "source": [
    "df.head()"
   ]
  },
  {
   "cell_type": "code",
   "execution_count": 566,
   "metadata": {},
   "outputs": [
    {
     "data": {
      "text/plain": [
       "array(['Ingeniero', 'Medico', 'Artista', 'Funcionario', 'Otros',\n",
       "       'Ejecutivo', 'Construccion', 'Negocios/empresa', 'Servicios'],\n",
       "      dtype=object)"
      ]
     },
     "execution_count": 566,
     "metadata": {},
     "output_type": "execute_result"
    }
   ],
   "source": [
    "df['Profesion'].unique()"
   ]
  },
  {
   "cell_type": "code",
   "execution_count": 567,
   "metadata": {},
   "outputs": [],
   "source": [
    "ambito_laboral = {\n",
    "    'Tecnologia/Industria': ['Ingeniero', 'Construccion'],\n",
    "    'Salud': ['Medico'],\n",
    "    'Arte': ['Artista'],\n",
    "    'Servicios Publicos': ['Funcionario', 'Servicios'],\n",
    "    'Finanzas': ['Ejecutivo', 'Negocios/empresa'],\n",
    "    'Otros': ['Otros'],\n",
    "}"
   ]
  },
  {
   "cell_type": "code",
   "execution_count": 568,
   "metadata": {},
   "outputs": [
    {
     "data": {
      "application/vnd.microsoft.datawrangler.viewer.v0+json": {
       "columns": [
        {
         "name": "ID",
         "rawType": "object",
         "type": "string"
        },
        {
         "name": "Profesion",
         "rawType": "object",
         "type": "string"
        },
        {
         "name": "ambito_laboral",
         "rawType": "object",
         "type": "string"
        }
       ],
       "conversionMethod": "pd.DataFrame",
       "ref": "8d5390a3-0212-4a28-bef9-ef6fda657406",
       "rows": [
        [
         "CLI1000",
         "Artista",
         "Arte"
        ],
        [
         "CLI10004",
         "Ejecutivo",
         "Finanzas"
        ],
        [
         "CLI10023",
         "Negocios/empresa",
         "Finanzas"
        ],
        [
         "CLI10001",
         "Otros",
         "Otros"
        ],
        [
         "CLI100",
         "Medico",
         "Salud"
        ],
        [
         "CLI10000",
         "Funcionario",
         "Servicios Publicos"
        ],
        [
         "CLI10027",
         "Servicios",
         "Servicios Publicos"
        ],
        [
         "CLI10",
         "Ingeniero",
         "Tecnologia/Industria"
        ],
        [
         "CLI10009",
         "Construccion",
         "Tecnologia/Industria"
        ]
       ],
       "shape": {
        "columns": 2,
        "rows": 9
       }
      },
      "text/html": [
       "<div>\n",
       "<style scoped>\n",
       "    .dataframe tbody tr th:only-of-type {\n",
       "        vertical-align: middle;\n",
       "    }\n",
       "\n",
       "    .dataframe tbody tr th {\n",
       "        vertical-align: top;\n",
       "    }\n",
       "\n",
       "    .dataframe thead th {\n",
       "        text-align: right;\n",
       "    }\n",
       "</style>\n",
       "<table border=\"1\" class=\"dataframe\">\n",
       "  <thead>\n",
       "    <tr style=\"text-align: right;\">\n",
       "      <th></th>\n",
       "      <th>Profesion</th>\n",
       "      <th>ambito_laboral</th>\n",
       "    </tr>\n",
       "    <tr>\n",
       "      <th>ID</th>\n",
       "      <th></th>\n",
       "      <th></th>\n",
       "    </tr>\n",
       "  </thead>\n",
       "  <tbody>\n",
       "    <tr>\n",
       "      <th>CLI1000</th>\n",
       "      <td>Artista</td>\n",
       "      <td>Arte</td>\n",
       "    </tr>\n",
       "    <tr>\n",
       "      <th>CLI10004</th>\n",
       "      <td>Ejecutivo</td>\n",
       "      <td>Finanzas</td>\n",
       "    </tr>\n",
       "    <tr>\n",
       "      <th>CLI10023</th>\n",
       "      <td>Negocios/empresa</td>\n",
       "      <td>Finanzas</td>\n",
       "    </tr>\n",
       "    <tr>\n",
       "      <th>CLI10001</th>\n",
       "      <td>Otros</td>\n",
       "      <td>Otros</td>\n",
       "    </tr>\n",
       "    <tr>\n",
       "      <th>CLI100</th>\n",
       "      <td>Medico</td>\n",
       "      <td>Salud</td>\n",
       "    </tr>\n",
       "    <tr>\n",
       "      <th>CLI10000</th>\n",
       "      <td>Funcionario</td>\n",
       "      <td>Servicios Publicos</td>\n",
       "    </tr>\n",
       "    <tr>\n",
       "      <th>CLI10027</th>\n",
       "      <td>Servicios</td>\n",
       "      <td>Servicios Publicos</td>\n",
       "    </tr>\n",
       "    <tr>\n",
       "      <th>CLI10</th>\n",
       "      <td>Ingeniero</td>\n",
       "      <td>Tecnologia/Industria</td>\n",
       "    </tr>\n",
       "    <tr>\n",
       "      <th>CLI10009</th>\n",
       "      <td>Construccion</td>\n",
       "      <td>Tecnologia/Industria</td>\n",
       "    </tr>\n",
       "  </tbody>\n",
       "</table>\n",
       "</div>"
      ],
      "text/plain": [
       "                 Profesion        ambito_laboral\n",
       "ID                                              \n",
       "CLI1000            Artista                  Arte\n",
       "CLI10004         Ejecutivo              Finanzas\n",
       "CLI10023  Negocios/empresa              Finanzas\n",
       "CLI10001             Otros                 Otros\n",
       "CLI100              Medico                 Salud\n",
       "CLI10000       Funcionario    Servicios Publicos\n",
       "CLI10027         Servicios    Servicios Publicos\n",
       "CLI10            Ingeniero  Tecnologia/Industria\n",
       "CLI10009      Construccion  Tecnologia/Industria"
      ]
     },
     "execution_count": 568,
     "metadata": {},
     "output_type": "execute_result"
    }
   ],
   "source": [
    "# Pasar de profesion a ambito_laboral\n",
    "def map_profesion_to_ambito(profesion):\n",
    "    for ambito, profesiones in ambito_laboral.items():\n",
    "        if profesion in profesiones:\n",
    "            return ambito\n",
    "    return 'Desconocido'\n",
    "\n",
    "df['ambito_laboral'] = df['Profesion'].map(map_profesion_to_ambito)\n",
    "df[['Profesion', 'ambito_laboral']].drop_duplicates().sort_values('ambito_laboral')\n"
   ]
  },
  {
   "cell_type": "code",
   "execution_count": 569,
   "metadata": {},
   "outputs": [
    {
     "data": {
      "text/plain": [
       "array([], dtype=object)"
      ]
     },
     "execution_count": 569,
     "metadata": {},
     "output_type": "execute_result"
    }
   ],
   "source": [
    "df[df['ambito_laboral'].isna()]['Profesion'].unique() # Ver profesiones sin sector asignado"
   ]
  },
  {
   "cell_type": "code",
   "execution_count": 570,
   "metadata": {},
   "outputs": [],
   "source": [
    "df.drop(columns=['Profesion'], inplace=True) "
   ]
  },
  {
   "cell_type": "code",
   "execution_count": 571,
   "metadata": {},
   "outputs": [
    {
     "data": {
      "application/vnd.microsoft.datawrangler.viewer.v0+json": {
       "columns": [
        {
         "name": "ID",
         "rawType": "object",
         "type": "string"
        },
        {
         "name": "Genero",
         "rawType": "object",
         "type": "string"
        },
        {
         "name": "Casado",
         "rawType": "object",
         "type": "string"
        },
        {
         "name": "Edad",
         "rawType": "int64",
         "type": "integer"
        },
        {
         "name": "Graduado",
         "rawType": "object",
         "type": "string"
        },
        {
         "name": "Experiencia_laboral",
         "rawType": "object",
         "type": "string"
        },
        {
         "name": "Gastoscore",
         "rawType": "object",
         "type": "string"
        },
        {
         "name": "Family_Size",
         "rawType": "int64",
         "type": "integer"
        },
        {
         "name": "anno_nacimiento",
         "rawType": "int64",
         "type": "integer"
        },
        {
         "name": "Generacion",
         "rawType": "object",
         "type": "string"
        },
        {
         "name": "Ingresos_anuales_brutos",
         "rawType": "int64",
         "type": "integer"
        },
        {
         "name": "Digital_encuesta",
         "rawType": "int64",
         "type": "integer"
        },
        {
         "name": "Gasto_medio_mensual_cuota",
         "rawType": "int64",
         "type": "integer"
        },
        {
         "name": "Abandono",
         "rawType": "int64",
         "type": "integer"
        },
        {
         "name": "Dias_cliente",
         "rawType": "int64",
         "type": "integer"
        },
        {
         "name": "Campanna_anno",
         "rawType": "float64",
         "type": "float"
        },
        {
         "name": "zonas",
         "rawType": "object",
         "type": "string"
        },
        {
         "name": "ambito_laboral",
         "rawType": "object",
         "type": "string"
        }
       ],
       "conversionMethod": "pd.DataFrame",
       "ref": "9c26334b-a2cb-4b6e-9078-0d5039aaa463",
       "rows": [
        [
         "CLI10",
         "F",
         "Si",
         "67",
         "Si",
         "+20annos",
         "Bajo",
         "3",
         "1957",
         "Generacion X",
         "93442",
         "1385",
         "80",
         "1",
         "195",
         null,
         "Oeste",
         "Tecnologia/Industria"
        ],
        [
         "CLI100",
         "M",
         "Si",
         "64",
         "Si",
         "+20annos",
         "Medio",
         "2",
         "1960",
         "Generacion X",
         "99774",
         "1052",
         "50",
         "1",
         "360",
         "5.0",
         "Este",
         "Salud"
        ],
        [
         "CLI1000",
         "M",
         "Si",
         "65",
         "Si",
         "+20annos",
         "Medio",
         "3",
         "1959",
         "Generacion X",
         "36756",
         "1717",
         "30",
         "0",
         "407",
         "3.0",
         "Oeste",
         "Arte"
        ],
        [
         "CLI10000",
         "M",
         "No",
         "33",
         "No",
         "10-20annos",
         "Bajo",
         "4",
         "1991",
         "Millennials",
         "24616",
         "1606",
         "30",
         "0",
         "544",
         "4.0",
         "Oeste",
         "Servicios Publicos"
        ],
        [
         "CLI10001",
         "M",
         "Si",
         "52",
         "No",
         "+20annos",
         "Medio",
         "2",
         "1972",
         "Generacion X",
         "29834",
         "1346",
         "30",
         "1",
         "170",
         null,
         "Este",
         "Otros"
        ]
       ],
       "shape": {
        "columns": 17,
        "rows": 5
       }
      },
      "text/html": [
       "<div>\n",
       "<style scoped>\n",
       "    .dataframe tbody tr th:only-of-type {\n",
       "        vertical-align: middle;\n",
       "    }\n",
       "\n",
       "    .dataframe tbody tr th {\n",
       "        vertical-align: top;\n",
       "    }\n",
       "\n",
       "    .dataframe thead th {\n",
       "        text-align: right;\n",
       "    }\n",
       "</style>\n",
       "<table border=\"1\" class=\"dataframe\">\n",
       "  <thead>\n",
       "    <tr style=\"text-align: right;\">\n",
       "      <th></th>\n",
       "      <th>Genero</th>\n",
       "      <th>Casado</th>\n",
       "      <th>Edad</th>\n",
       "      <th>Graduado</th>\n",
       "      <th>Experiencia_laboral</th>\n",
       "      <th>Gastoscore</th>\n",
       "      <th>Family_Size</th>\n",
       "      <th>anno_nacimiento</th>\n",
       "      <th>Generacion</th>\n",
       "      <th>Ingresos_anuales_brutos</th>\n",
       "      <th>Digital_encuesta</th>\n",
       "      <th>Gasto_medio_mensual_cuota</th>\n",
       "      <th>Abandono</th>\n",
       "      <th>Dias_cliente</th>\n",
       "      <th>Campanna_anno</th>\n",
       "      <th>zonas</th>\n",
       "      <th>ambito_laboral</th>\n",
       "    </tr>\n",
       "    <tr>\n",
       "      <th>ID</th>\n",
       "      <th></th>\n",
       "      <th></th>\n",
       "      <th></th>\n",
       "      <th></th>\n",
       "      <th></th>\n",
       "      <th></th>\n",
       "      <th></th>\n",
       "      <th></th>\n",
       "      <th></th>\n",
       "      <th></th>\n",
       "      <th></th>\n",
       "      <th></th>\n",
       "      <th></th>\n",
       "      <th></th>\n",
       "      <th></th>\n",
       "      <th></th>\n",
       "      <th></th>\n",
       "    </tr>\n",
       "  </thead>\n",
       "  <tbody>\n",
       "    <tr>\n",
       "      <th>CLI10</th>\n",
       "      <td>F</td>\n",
       "      <td>Si</td>\n",
       "      <td>67</td>\n",
       "      <td>Si</td>\n",
       "      <td>+20annos</td>\n",
       "      <td>Bajo</td>\n",
       "      <td>3</td>\n",
       "      <td>1957</td>\n",
       "      <td>Generacion X</td>\n",
       "      <td>93442</td>\n",
       "      <td>1385</td>\n",
       "      <td>80</td>\n",
       "      <td>1</td>\n",
       "      <td>195</td>\n",
       "      <td>NaN</td>\n",
       "      <td>Oeste</td>\n",
       "      <td>Tecnologia/Industria</td>\n",
       "    </tr>\n",
       "    <tr>\n",
       "      <th>CLI100</th>\n",
       "      <td>M</td>\n",
       "      <td>Si</td>\n",
       "      <td>64</td>\n",
       "      <td>Si</td>\n",
       "      <td>+20annos</td>\n",
       "      <td>Medio</td>\n",
       "      <td>2</td>\n",
       "      <td>1960</td>\n",
       "      <td>Generacion X</td>\n",
       "      <td>99774</td>\n",
       "      <td>1052</td>\n",
       "      <td>50</td>\n",
       "      <td>1</td>\n",
       "      <td>360</td>\n",
       "      <td>5.0</td>\n",
       "      <td>Este</td>\n",
       "      <td>Salud</td>\n",
       "    </tr>\n",
       "    <tr>\n",
       "      <th>CLI1000</th>\n",
       "      <td>M</td>\n",
       "      <td>Si</td>\n",
       "      <td>65</td>\n",
       "      <td>Si</td>\n",
       "      <td>+20annos</td>\n",
       "      <td>Medio</td>\n",
       "      <td>3</td>\n",
       "      <td>1959</td>\n",
       "      <td>Generacion X</td>\n",
       "      <td>36756</td>\n",
       "      <td>1717</td>\n",
       "      <td>30</td>\n",
       "      <td>0</td>\n",
       "      <td>407</td>\n",
       "      <td>3.0</td>\n",
       "      <td>Oeste</td>\n",
       "      <td>Arte</td>\n",
       "    </tr>\n",
       "    <tr>\n",
       "      <th>CLI10000</th>\n",
       "      <td>M</td>\n",
       "      <td>No</td>\n",
       "      <td>33</td>\n",
       "      <td>No</td>\n",
       "      <td>10-20annos</td>\n",
       "      <td>Bajo</td>\n",
       "      <td>4</td>\n",
       "      <td>1991</td>\n",
       "      <td>Millennials</td>\n",
       "      <td>24616</td>\n",
       "      <td>1606</td>\n",
       "      <td>30</td>\n",
       "      <td>0</td>\n",
       "      <td>544</td>\n",
       "      <td>4.0</td>\n",
       "      <td>Oeste</td>\n",
       "      <td>Servicios Publicos</td>\n",
       "    </tr>\n",
       "    <tr>\n",
       "      <th>CLI10001</th>\n",
       "      <td>M</td>\n",
       "      <td>Si</td>\n",
       "      <td>52</td>\n",
       "      <td>No</td>\n",
       "      <td>+20annos</td>\n",
       "      <td>Medio</td>\n",
       "      <td>2</td>\n",
       "      <td>1972</td>\n",
       "      <td>Generacion X</td>\n",
       "      <td>29834</td>\n",
       "      <td>1346</td>\n",
       "      <td>30</td>\n",
       "      <td>1</td>\n",
       "      <td>170</td>\n",
       "      <td>NaN</td>\n",
       "      <td>Este</td>\n",
       "      <td>Otros</td>\n",
       "    </tr>\n",
       "  </tbody>\n",
       "</table>\n",
       "</div>"
      ],
      "text/plain": [
       "         Genero Casado  Edad Graduado Experiencia_laboral Gastoscore  \\\n",
       "ID                                                                     \n",
       "CLI10         F     Si    67       Si            +20annos       Bajo   \n",
       "CLI100        M     Si    64       Si            +20annos      Medio   \n",
       "CLI1000       M     Si    65       Si            +20annos      Medio   \n",
       "CLI10000      M     No    33       No          10-20annos       Bajo   \n",
       "CLI10001      M     Si    52       No            +20annos      Medio   \n",
       "\n",
       "          Family_Size  anno_nacimiento    Generacion  Ingresos_anuales_brutos  \\\n",
       "ID                                                                              \n",
       "CLI10               3             1957  Generacion X                    93442   \n",
       "CLI100              2             1960  Generacion X                    99774   \n",
       "CLI1000             3             1959  Generacion X                    36756   \n",
       "CLI10000            4             1991   Millennials                    24616   \n",
       "CLI10001            2             1972  Generacion X                    29834   \n",
       "\n",
       "          Digital_encuesta  Gasto_medio_mensual_cuota  Abandono  Dias_cliente  \\\n",
       "ID                                                                              \n",
       "CLI10                 1385                         80         1           195   \n",
       "CLI100                1052                         50         1           360   \n",
       "CLI1000               1717                         30         0           407   \n",
       "CLI10000              1606                         30         0           544   \n",
       "CLI10001              1346                         30         1           170   \n",
       "\n",
       "          Campanna_anno  zonas        ambito_laboral  \n",
       "ID                                                    \n",
       "CLI10               NaN  Oeste  Tecnologia/Industria  \n",
       "CLI100              5.0   Este                 Salud  \n",
       "CLI1000             3.0  Oeste                  Arte  \n",
       "CLI10000            4.0  Oeste    Servicios Publicos  \n",
       "CLI10001            NaN   Este                 Otros  "
      ]
     },
     "execution_count": 571,
     "metadata": {},
     "output_type": "execute_result"
    }
   ],
   "source": [
    "df.head()"
   ]
  },
  {
   "cell_type": "code",
   "execution_count": 572,
   "metadata": {},
   "outputs": [
    {
     "data": {
      "text/plain": [
       "Genero                          0\n",
       "Casado                        190\n",
       "Edad                            0\n",
       "Graduado                      103\n",
       "Experiencia_laboral             0\n",
       "Gastoscore                      0\n",
       "Family_Size                     0\n",
       "anno_nacimiento                 0\n",
       "Generacion                      0\n",
       "Ingresos_anuales_brutos         0\n",
       "Digital_encuesta                0\n",
       "Gasto_medio_mensual_cuota       0\n",
       "Abandono                        0\n",
       "Dias_cliente                    0\n",
       "Campanna_anno                5707\n",
       "zonas                           0\n",
       "ambito_laboral                  0\n",
       "dtype: int64"
      ]
     },
     "execution_count": 572,
     "metadata": {},
     "output_type": "execute_result"
    }
   ],
   "source": [
    "df.isnull().sum()"
   ]
  },
  {
   "cell_type": "code",
   "execution_count": 573,
   "metadata": {},
   "outputs": [],
   "source": [
    "# Eliminar filas de Casado y Graduado\n",
    "df.dropna(subset=['Casado', 'Graduado'], inplace=True)"
   ]
  },
  {
   "cell_type": "code",
   "execution_count": 574,
   "metadata": {},
   "outputs": [],
   "source": [
    "df['Campanna_anno'] = df['Campanna_anno'].fillna(0)  # Rellenar NaN con 0 en 'Campanna_anno'"
   ]
  },
  {
   "cell_type": "code",
   "execution_count": 575,
   "metadata": {},
   "outputs": [
    {
     "data": {
      "text/plain": [
       "Genero                       0\n",
       "Casado                       0\n",
       "Edad                         0\n",
       "Graduado                     0\n",
       "Experiencia_laboral          0\n",
       "Gastoscore                   0\n",
       "Family_Size                  0\n",
       "anno_nacimiento              0\n",
       "Generacion                   0\n",
       "Ingresos_anuales_brutos      0\n",
       "Digital_encuesta             0\n",
       "Gasto_medio_mensual_cuota    0\n",
       "Abandono                     0\n",
       "Dias_cliente                 0\n",
       "Campanna_anno                0\n",
       "zonas                        0\n",
       "ambito_laboral               0\n",
       "dtype: int64"
      ]
     },
     "execution_count": 575,
     "metadata": {},
     "output_type": "execute_result"
    }
   ],
   "source": [
    "df.isnull().sum()"
   ]
  },
  {
   "cell_type": "code",
   "execution_count": 576,
   "metadata": {},
   "outputs": [
    {
     "data": {
      "application/vnd.microsoft.datawrangler.viewer.v0+json": {
       "columns": [
        {
         "name": "ID",
         "rawType": "object",
         "type": "string"
        },
        {
         "name": "Genero",
         "rawType": "object",
         "type": "string"
        },
        {
         "name": "Casado",
         "rawType": "object",
         "type": "string"
        },
        {
         "name": "Edad",
         "rawType": "int64",
         "type": "integer"
        },
        {
         "name": "Graduado",
         "rawType": "object",
         "type": "string"
        },
        {
         "name": "Experiencia_laboral",
         "rawType": "object",
         "type": "string"
        },
        {
         "name": "Gastoscore",
         "rawType": "object",
         "type": "string"
        },
        {
         "name": "Family_Size",
         "rawType": "int64",
         "type": "integer"
        },
        {
         "name": "anno_nacimiento",
         "rawType": "int64",
         "type": "integer"
        },
        {
         "name": "Generacion",
         "rawType": "object",
         "type": "string"
        },
        {
         "name": "Ingresos_anuales_brutos",
         "rawType": "int64",
         "type": "integer"
        },
        {
         "name": "Digital_encuesta",
         "rawType": "int64",
         "type": "integer"
        },
        {
         "name": "Gasto_medio_mensual_cuota",
         "rawType": "int64",
         "type": "integer"
        },
        {
         "name": "Abandono",
         "rawType": "int64",
         "type": "integer"
        },
        {
         "name": "Dias_cliente",
         "rawType": "int64",
         "type": "integer"
        },
        {
         "name": "Campanna_anno",
         "rawType": "float64",
         "type": "float"
        },
        {
         "name": "zonas",
         "rawType": "object",
         "type": "string"
        },
        {
         "name": "ambito_laboral",
         "rawType": "object",
         "type": "string"
        }
       ],
       "conversionMethod": "pd.DataFrame",
       "ref": "f6ed182f-339f-4a7b-bbe0-86cef54f6ae2",
       "rows": [
        [
         "CLI10",
         "F",
         "Si",
         "67",
         "Si",
         "+20annos",
         "Bajo",
         "3",
         "1957",
         "Generacion X",
         "93442",
         "1385",
         "80",
         "1",
         "195",
         "0.0",
         "Oeste",
         "Tecnologia/Industria"
        ],
        [
         "CLI100",
         "M",
         "Si",
         "64",
         "Si",
         "+20annos",
         "Medio",
         "2",
         "1960",
         "Generacion X",
         "99774",
         "1052",
         "50",
         "1",
         "360",
         "5.0",
         "Este",
         "Salud"
        ],
        [
         "CLI1000",
         "M",
         "Si",
         "65",
         "Si",
         "+20annos",
         "Medio",
         "3",
         "1959",
         "Generacion X",
         "36756",
         "1717",
         "30",
         "0",
         "407",
         "3.0",
         "Oeste",
         "Arte"
        ],
        [
         "CLI10000",
         "M",
         "No",
         "33",
         "No",
         "10-20annos",
         "Bajo",
         "4",
         "1991",
         "Millennials",
         "24616",
         "1606",
         "30",
         "0",
         "544",
         "4.0",
         "Oeste",
         "Servicios Publicos"
        ],
        [
         "CLI10001",
         "M",
         "Si",
         "52",
         "No",
         "+20annos",
         "Medio",
         "2",
         "1972",
         "Generacion X",
         "29834",
         "1346",
         "30",
         "1",
         "170",
         "0.0",
         "Este",
         "Otros"
        ]
       ],
       "shape": {
        "columns": 17,
        "rows": 5
       }
      },
      "text/html": [
       "<div>\n",
       "<style scoped>\n",
       "    .dataframe tbody tr th:only-of-type {\n",
       "        vertical-align: middle;\n",
       "    }\n",
       "\n",
       "    .dataframe tbody tr th {\n",
       "        vertical-align: top;\n",
       "    }\n",
       "\n",
       "    .dataframe thead th {\n",
       "        text-align: right;\n",
       "    }\n",
       "</style>\n",
       "<table border=\"1\" class=\"dataframe\">\n",
       "  <thead>\n",
       "    <tr style=\"text-align: right;\">\n",
       "      <th></th>\n",
       "      <th>Genero</th>\n",
       "      <th>Casado</th>\n",
       "      <th>Edad</th>\n",
       "      <th>Graduado</th>\n",
       "      <th>Experiencia_laboral</th>\n",
       "      <th>Gastoscore</th>\n",
       "      <th>Family_Size</th>\n",
       "      <th>anno_nacimiento</th>\n",
       "      <th>Generacion</th>\n",
       "      <th>Ingresos_anuales_brutos</th>\n",
       "      <th>Digital_encuesta</th>\n",
       "      <th>Gasto_medio_mensual_cuota</th>\n",
       "      <th>Abandono</th>\n",
       "      <th>Dias_cliente</th>\n",
       "      <th>Campanna_anno</th>\n",
       "      <th>zonas</th>\n",
       "      <th>ambito_laboral</th>\n",
       "    </tr>\n",
       "    <tr>\n",
       "      <th>ID</th>\n",
       "      <th></th>\n",
       "      <th></th>\n",
       "      <th></th>\n",
       "      <th></th>\n",
       "      <th></th>\n",
       "      <th></th>\n",
       "      <th></th>\n",
       "      <th></th>\n",
       "      <th></th>\n",
       "      <th></th>\n",
       "      <th></th>\n",
       "      <th></th>\n",
       "      <th></th>\n",
       "      <th></th>\n",
       "      <th></th>\n",
       "      <th></th>\n",
       "      <th></th>\n",
       "    </tr>\n",
       "  </thead>\n",
       "  <tbody>\n",
       "    <tr>\n",
       "      <th>CLI10</th>\n",
       "      <td>F</td>\n",
       "      <td>Si</td>\n",
       "      <td>67</td>\n",
       "      <td>Si</td>\n",
       "      <td>+20annos</td>\n",
       "      <td>Bajo</td>\n",
       "      <td>3</td>\n",
       "      <td>1957</td>\n",
       "      <td>Generacion X</td>\n",
       "      <td>93442</td>\n",
       "      <td>1385</td>\n",
       "      <td>80</td>\n",
       "      <td>1</td>\n",
       "      <td>195</td>\n",
       "      <td>0.0</td>\n",
       "      <td>Oeste</td>\n",
       "      <td>Tecnologia/Industria</td>\n",
       "    </tr>\n",
       "    <tr>\n",
       "      <th>CLI100</th>\n",
       "      <td>M</td>\n",
       "      <td>Si</td>\n",
       "      <td>64</td>\n",
       "      <td>Si</td>\n",
       "      <td>+20annos</td>\n",
       "      <td>Medio</td>\n",
       "      <td>2</td>\n",
       "      <td>1960</td>\n",
       "      <td>Generacion X</td>\n",
       "      <td>99774</td>\n",
       "      <td>1052</td>\n",
       "      <td>50</td>\n",
       "      <td>1</td>\n",
       "      <td>360</td>\n",
       "      <td>5.0</td>\n",
       "      <td>Este</td>\n",
       "      <td>Salud</td>\n",
       "    </tr>\n",
       "    <tr>\n",
       "      <th>CLI1000</th>\n",
       "      <td>M</td>\n",
       "      <td>Si</td>\n",
       "      <td>65</td>\n",
       "      <td>Si</td>\n",
       "      <td>+20annos</td>\n",
       "      <td>Medio</td>\n",
       "      <td>3</td>\n",
       "      <td>1959</td>\n",
       "      <td>Generacion X</td>\n",
       "      <td>36756</td>\n",
       "      <td>1717</td>\n",
       "      <td>30</td>\n",
       "      <td>0</td>\n",
       "      <td>407</td>\n",
       "      <td>3.0</td>\n",
       "      <td>Oeste</td>\n",
       "      <td>Arte</td>\n",
       "    </tr>\n",
       "    <tr>\n",
       "      <th>CLI10000</th>\n",
       "      <td>M</td>\n",
       "      <td>No</td>\n",
       "      <td>33</td>\n",
       "      <td>No</td>\n",
       "      <td>10-20annos</td>\n",
       "      <td>Bajo</td>\n",
       "      <td>4</td>\n",
       "      <td>1991</td>\n",
       "      <td>Millennials</td>\n",
       "      <td>24616</td>\n",
       "      <td>1606</td>\n",
       "      <td>30</td>\n",
       "      <td>0</td>\n",
       "      <td>544</td>\n",
       "      <td>4.0</td>\n",
       "      <td>Oeste</td>\n",
       "      <td>Servicios Publicos</td>\n",
       "    </tr>\n",
       "    <tr>\n",
       "      <th>CLI10001</th>\n",
       "      <td>M</td>\n",
       "      <td>Si</td>\n",
       "      <td>52</td>\n",
       "      <td>No</td>\n",
       "      <td>+20annos</td>\n",
       "      <td>Medio</td>\n",
       "      <td>2</td>\n",
       "      <td>1972</td>\n",
       "      <td>Generacion X</td>\n",
       "      <td>29834</td>\n",
       "      <td>1346</td>\n",
       "      <td>30</td>\n",
       "      <td>1</td>\n",
       "      <td>170</td>\n",
       "      <td>0.0</td>\n",
       "      <td>Este</td>\n",
       "      <td>Otros</td>\n",
       "    </tr>\n",
       "  </tbody>\n",
       "</table>\n",
       "</div>"
      ],
      "text/plain": [
       "         Genero Casado  Edad Graduado Experiencia_laboral Gastoscore  \\\n",
       "ID                                                                     \n",
       "CLI10         F     Si    67       Si            +20annos       Bajo   \n",
       "CLI100        M     Si    64       Si            +20annos      Medio   \n",
       "CLI1000       M     Si    65       Si            +20annos      Medio   \n",
       "CLI10000      M     No    33       No          10-20annos       Bajo   \n",
       "CLI10001      M     Si    52       No            +20annos      Medio   \n",
       "\n",
       "          Family_Size  anno_nacimiento    Generacion  Ingresos_anuales_brutos  \\\n",
       "ID                                                                              \n",
       "CLI10               3             1957  Generacion X                    93442   \n",
       "CLI100              2             1960  Generacion X                    99774   \n",
       "CLI1000             3             1959  Generacion X                    36756   \n",
       "CLI10000            4             1991   Millennials                    24616   \n",
       "CLI10001            2             1972  Generacion X                    29834   \n",
       "\n",
       "          Digital_encuesta  Gasto_medio_mensual_cuota  Abandono  Dias_cliente  \\\n",
       "ID                                                                              \n",
       "CLI10                 1385                         80         1           195   \n",
       "CLI100                1052                         50         1           360   \n",
       "CLI1000               1717                         30         0           407   \n",
       "CLI10000              1606                         30         0           544   \n",
       "CLI10001              1346                         30         1           170   \n",
       "\n",
       "          Campanna_anno  zonas        ambito_laboral  \n",
       "ID                                                    \n",
       "CLI10               0.0  Oeste  Tecnologia/Industria  \n",
       "CLI100              5.0   Este                 Salud  \n",
       "CLI1000             3.0  Oeste                  Arte  \n",
       "CLI10000            4.0  Oeste    Servicios Publicos  \n",
       "CLI10001            0.0   Este                 Otros  "
      ]
     },
     "execution_count": 576,
     "metadata": {},
     "output_type": "execute_result"
    }
   ],
   "source": [
    "df.head()"
   ]
  },
  {
   "cell_type": "code",
   "execution_count": 577,
   "metadata": {},
   "outputs": [
    {
     "name": "stdout",
     "output_type": "stream",
     "text": [
      "Variables continuas: Edad, Family_Size, anno_nacimiento, Ingresos_anuales_brutos, Digital_encuesta, Gasto_medio_mensual_cuota, Abandono, Dias_cliente, Campanna_anno\n",
      "Variables categóricas: Genero, Casado, Graduado, Experiencia_laboral, Gastoscore, Generacion, zonas, ambito_laboral\n"
     ]
    }
   ],
   "source": [
    "v_continuas = []\n",
    "v_categoricas = []\n",
    "for i in df.columns:\n",
    "    if df[i].nunique() > 25 or df[i].dtypes in ['float64', 'int64']:\n",
    "        v_continuas.append(i)\n",
    "    else:\n",
    "        v_categoricas.append(i)\n",
    "\n",
    "print('Variables continuas: {}'.format(', '.join(v_continuas)))\n",
    "print('Variables categóricas: {}'.format(', '.join(v_categoricas)))"
   ]
  },
  {
   "cell_type": "code",
   "execution_count": 578,
   "metadata": {},
   "outputs": [
    {
     "name": "stdout",
     "output_type": "stream",
     "text": [
      "Genero ['F' 'M']\n",
      "Casado ['Si' 'No']\n",
      "Graduado ['Si' 'No']\n",
      "Experiencia_laboral ['+20annos' '10-20annos' '<10annos']\n",
      "Gastoscore ['Bajo' 'Medio' 'Alto']\n",
      "Generacion ['Generacion X' 'Millennials' 'Generacion Silenciosa' 'Generacion Z']\n",
      "zonas ['Oeste' 'Este' 'Norte' 'Sur']\n",
      "ambito_laboral ['Tecnologia/Industria' 'Salud' 'Arte' 'Servicios Publicos' 'Otros'\n",
      " 'Finanzas']\n"
     ]
    }
   ],
   "source": [
    "for i in v_categoricas:\n",
    "    print(i, df[i].unique()) "
   ]
  },
  {
   "cell_type": "code",
   "execution_count": 579,
   "metadata": {},
   "outputs": [],
   "source": [
    "# --- Label Encoding para categóricas binarias ---\n",
    "label_cols = ['Genero', 'Casado', 'Graduado']\n",
    "le = LabelEncoder()\n",
    "for col in label_cols:\n",
    "    df[col] = le.fit_transform(df[col])"
   ]
  },
  {
   "cell_type": "code",
   "execution_count": 580,
   "metadata": {},
   "outputs": [],
   "source": [
    "ordinal_cols = ['Experiencia_laboral', 'Gastoscore', 'Generacion']\n",
    "\n",
    "# Definir el orden de las categorías    \n",
    "\n",
    "orden_experiencia = ['<10annos', '10-20annos', '+20annos']\n",
    "orden_gastoscore = ['Bajo', 'Medio', 'Alto']\n",
    "orden_generacion = ['Generacion Silenciosa', 'Generacion X', 'Millennials', 'Generacion Z']\n",
    "\n",
    "# Crear una lista de orden para cada columna\n",
    "\n",
    "ordenes = [orden_experiencia, orden_gastoscore, orden_generacion]\n",
    "\n",
    "oe = OrdinalEncoder(categories=ordenes)\n"
   ]
  },
  {
   "cell_type": "code",
   "execution_count": 581,
   "metadata": {},
   "outputs": [],
   "source": [
    "df[ordinal_cols] = oe.fit_transform(df[ordinal_cols])"
   ]
  },
  {
   "cell_type": "code",
   "execution_count": 582,
   "metadata": {},
   "outputs": [],
   "source": [
    "variables_onehot = ['zonas', 'ambito_laboral', 'Campanna_anno']\n",
    "\n",
    "# Aplicar OneHotEncoder a las variables categóricas\n",
    "df = pd.get_dummies(df, columns=variables_onehot, drop_first=True)\n",
    "\n",
    "df[df.columns.difference(variables_onehot)] = df[df.columns.difference(variables_onehot)].astype(int)"
   ]
  },
  {
   "cell_type": "code",
   "execution_count": 583,
   "metadata": {},
   "outputs": [
    {
     "data": {
      "application/vnd.microsoft.datawrangler.viewer.v0+json": {
       "columns": [
        {
         "name": "ID",
         "rawType": "object",
         "type": "string"
        },
        {
         "name": "Genero",
         "rawType": "int64",
         "type": "integer"
        },
        {
         "name": "Casado",
         "rawType": "int64",
         "type": "integer"
        },
        {
         "name": "Edad",
         "rawType": "int64",
         "type": "integer"
        },
        {
         "name": "Graduado",
         "rawType": "int64",
         "type": "integer"
        },
        {
         "name": "Experiencia_laboral",
         "rawType": "int64",
         "type": "integer"
        },
        {
         "name": "Gastoscore",
         "rawType": "int64",
         "type": "integer"
        },
        {
         "name": "Family_Size",
         "rawType": "int64",
         "type": "integer"
        },
        {
         "name": "anno_nacimiento",
         "rawType": "int64",
         "type": "integer"
        },
        {
         "name": "Generacion",
         "rawType": "int64",
         "type": "integer"
        },
        {
         "name": "Ingresos_anuales_brutos",
         "rawType": "int64",
         "type": "integer"
        },
        {
         "name": "Digital_encuesta",
         "rawType": "int64",
         "type": "integer"
        },
        {
         "name": "Gasto_medio_mensual_cuota",
         "rawType": "int64",
         "type": "integer"
        },
        {
         "name": "Abandono",
         "rawType": "int64",
         "type": "integer"
        },
        {
         "name": "Dias_cliente",
         "rawType": "int64",
         "type": "integer"
        },
        {
         "name": "zonas_Norte",
         "rawType": "int64",
         "type": "integer"
        },
        {
         "name": "zonas_Oeste",
         "rawType": "int64",
         "type": "integer"
        },
        {
         "name": "zonas_Sur",
         "rawType": "int64",
         "type": "integer"
        },
        {
         "name": "ambito_laboral_Finanzas",
         "rawType": "int64",
         "type": "integer"
        },
        {
         "name": "ambito_laboral_Otros",
         "rawType": "int64",
         "type": "integer"
        },
        {
         "name": "ambito_laboral_Salud",
         "rawType": "int64",
         "type": "integer"
        },
        {
         "name": "ambito_laboral_Servicios Publicos",
         "rawType": "int64",
         "type": "integer"
        },
        {
         "name": "ambito_laboral_Tecnologia/Industria",
         "rawType": "int64",
         "type": "integer"
        },
        {
         "name": "Campanna_anno_1.0",
         "rawType": "int64",
         "type": "integer"
        },
        {
         "name": "Campanna_anno_3.0",
         "rawType": "int64",
         "type": "integer"
        },
        {
         "name": "Campanna_anno_4.0",
         "rawType": "int64",
         "type": "integer"
        },
        {
         "name": "Campanna_anno_5.0",
         "rawType": "int64",
         "type": "integer"
        }
       ],
       "conversionMethod": "pd.DataFrame",
       "ref": "5d231e56-8191-4609-85b9-6ceed1d6b65d",
       "rows": [
        [
         "CLI10",
         "0",
         "1",
         "67",
         "1",
         "2",
         "0",
         "3",
         "1957",
         "1",
         "93442",
         "1385",
         "80",
         "1",
         "195",
         "0",
         "1",
         "0",
         "0",
         "0",
         "0",
         "0",
         "1",
         "0",
         "0",
         "0",
         "0"
        ],
        [
         "CLI100",
         "1",
         "1",
         "64",
         "1",
         "2",
         "1",
         "2",
         "1960",
         "1",
         "99774",
         "1052",
         "50",
         "1",
         "360",
         "0",
         "0",
         "0",
         "0",
         "0",
         "1",
         "0",
         "0",
         "0",
         "0",
         "0",
         "1"
        ],
        [
         "CLI1000",
         "1",
         "1",
         "65",
         "1",
         "2",
         "1",
         "3",
         "1959",
         "1",
         "36756",
         "1717",
         "30",
         "0",
         "407",
         "0",
         "1",
         "0",
         "0",
         "0",
         "0",
         "0",
         "0",
         "0",
         "1",
         "0",
         "0"
        ],
        [
         "CLI10000",
         "1",
         "0",
         "33",
         "0",
         "1",
         "0",
         "4",
         "1991",
         "2",
         "24616",
         "1606",
         "30",
         "0",
         "544",
         "0",
         "1",
         "0",
         "0",
         "0",
         "0",
         "1",
         "0",
         "0",
         "0",
         "1",
         "0"
        ],
        [
         "CLI10001",
         "1",
         "1",
         "52",
         "0",
         "2",
         "1",
         "2",
         "1972",
         "1",
         "29834",
         "1346",
         "30",
         "1",
         "170",
         "0",
         "0",
         "0",
         "0",
         "1",
         "0",
         "0",
         "0",
         "0",
         "0",
         "0",
         "0"
        ]
       ],
       "shape": {
        "columns": 26,
        "rows": 5
       }
      },
      "text/html": [
       "<div>\n",
       "<style scoped>\n",
       "    .dataframe tbody tr th:only-of-type {\n",
       "        vertical-align: middle;\n",
       "    }\n",
       "\n",
       "    .dataframe tbody tr th {\n",
       "        vertical-align: top;\n",
       "    }\n",
       "\n",
       "    .dataframe thead th {\n",
       "        text-align: right;\n",
       "    }\n",
       "</style>\n",
       "<table border=\"1\" class=\"dataframe\">\n",
       "  <thead>\n",
       "    <tr style=\"text-align: right;\">\n",
       "      <th></th>\n",
       "      <th>Genero</th>\n",
       "      <th>Casado</th>\n",
       "      <th>Edad</th>\n",
       "      <th>Graduado</th>\n",
       "      <th>Experiencia_laboral</th>\n",
       "      <th>Gastoscore</th>\n",
       "      <th>Family_Size</th>\n",
       "      <th>anno_nacimiento</th>\n",
       "      <th>Generacion</th>\n",
       "      <th>Ingresos_anuales_brutos</th>\n",
       "      <th>...</th>\n",
       "      <th>zonas_Sur</th>\n",
       "      <th>ambito_laboral_Finanzas</th>\n",
       "      <th>ambito_laboral_Otros</th>\n",
       "      <th>ambito_laboral_Salud</th>\n",
       "      <th>ambito_laboral_Servicios Publicos</th>\n",
       "      <th>ambito_laboral_Tecnologia/Industria</th>\n",
       "      <th>Campanna_anno_1.0</th>\n",
       "      <th>Campanna_anno_3.0</th>\n",
       "      <th>Campanna_anno_4.0</th>\n",
       "      <th>Campanna_anno_5.0</th>\n",
       "    </tr>\n",
       "    <tr>\n",
       "      <th>ID</th>\n",
       "      <th></th>\n",
       "      <th></th>\n",
       "      <th></th>\n",
       "      <th></th>\n",
       "      <th></th>\n",
       "      <th></th>\n",
       "      <th></th>\n",
       "      <th></th>\n",
       "      <th></th>\n",
       "      <th></th>\n",
       "      <th></th>\n",
       "      <th></th>\n",
       "      <th></th>\n",
       "      <th></th>\n",
       "      <th></th>\n",
       "      <th></th>\n",
       "      <th></th>\n",
       "      <th></th>\n",
       "      <th></th>\n",
       "      <th></th>\n",
       "      <th></th>\n",
       "    </tr>\n",
       "  </thead>\n",
       "  <tbody>\n",
       "    <tr>\n",
       "      <th>CLI10</th>\n",
       "      <td>0</td>\n",
       "      <td>1</td>\n",
       "      <td>67</td>\n",
       "      <td>1</td>\n",
       "      <td>2</td>\n",
       "      <td>0</td>\n",
       "      <td>3</td>\n",
       "      <td>1957</td>\n",
       "      <td>1</td>\n",
       "      <td>93442</td>\n",
       "      <td>...</td>\n",
       "      <td>0</td>\n",
       "      <td>0</td>\n",
       "      <td>0</td>\n",
       "      <td>0</td>\n",
       "      <td>0</td>\n",
       "      <td>1</td>\n",
       "      <td>0</td>\n",
       "      <td>0</td>\n",
       "      <td>0</td>\n",
       "      <td>0</td>\n",
       "    </tr>\n",
       "    <tr>\n",
       "      <th>CLI100</th>\n",
       "      <td>1</td>\n",
       "      <td>1</td>\n",
       "      <td>64</td>\n",
       "      <td>1</td>\n",
       "      <td>2</td>\n",
       "      <td>1</td>\n",
       "      <td>2</td>\n",
       "      <td>1960</td>\n",
       "      <td>1</td>\n",
       "      <td>99774</td>\n",
       "      <td>...</td>\n",
       "      <td>0</td>\n",
       "      <td>0</td>\n",
       "      <td>0</td>\n",
       "      <td>1</td>\n",
       "      <td>0</td>\n",
       "      <td>0</td>\n",
       "      <td>0</td>\n",
       "      <td>0</td>\n",
       "      <td>0</td>\n",
       "      <td>1</td>\n",
       "    </tr>\n",
       "    <tr>\n",
       "      <th>CLI1000</th>\n",
       "      <td>1</td>\n",
       "      <td>1</td>\n",
       "      <td>65</td>\n",
       "      <td>1</td>\n",
       "      <td>2</td>\n",
       "      <td>1</td>\n",
       "      <td>3</td>\n",
       "      <td>1959</td>\n",
       "      <td>1</td>\n",
       "      <td>36756</td>\n",
       "      <td>...</td>\n",
       "      <td>0</td>\n",
       "      <td>0</td>\n",
       "      <td>0</td>\n",
       "      <td>0</td>\n",
       "      <td>0</td>\n",
       "      <td>0</td>\n",
       "      <td>0</td>\n",
       "      <td>1</td>\n",
       "      <td>0</td>\n",
       "      <td>0</td>\n",
       "    </tr>\n",
       "    <tr>\n",
       "      <th>CLI10000</th>\n",
       "      <td>1</td>\n",
       "      <td>0</td>\n",
       "      <td>33</td>\n",
       "      <td>0</td>\n",
       "      <td>1</td>\n",
       "      <td>0</td>\n",
       "      <td>4</td>\n",
       "      <td>1991</td>\n",
       "      <td>2</td>\n",
       "      <td>24616</td>\n",
       "      <td>...</td>\n",
       "      <td>0</td>\n",
       "      <td>0</td>\n",
       "      <td>0</td>\n",
       "      <td>0</td>\n",
       "      <td>1</td>\n",
       "      <td>0</td>\n",
       "      <td>0</td>\n",
       "      <td>0</td>\n",
       "      <td>1</td>\n",
       "      <td>0</td>\n",
       "    </tr>\n",
       "    <tr>\n",
       "      <th>CLI10001</th>\n",
       "      <td>1</td>\n",
       "      <td>1</td>\n",
       "      <td>52</td>\n",
       "      <td>0</td>\n",
       "      <td>2</td>\n",
       "      <td>1</td>\n",
       "      <td>2</td>\n",
       "      <td>1972</td>\n",
       "      <td>1</td>\n",
       "      <td>29834</td>\n",
       "      <td>...</td>\n",
       "      <td>0</td>\n",
       "      <td>0</td>\n",
       "      <td>1</td>\n",
       "      <td>0</td>\n",
       "      <td>0</td>\n",
       "      <td>0</td>\n",
       "      <td>0</td>\n",
       "      <td>0</td>\n",
       "      <td>0</td>\n",
       "      <td>0</td>\n",
       "    </tr>\n",
       "  </tbody>\n",
       "</table>\n",
       "<p>5 rows × 26 columns</p>\n",
       "</div>"
      ],
      "text/plain": [
       "          Genero  Casado  Edad  Graduado  Experiencia_laboral  Gastoscore  \\\n",
       "ID                                                                          \n",
       "CLI10          0       1    67         1                    2           0   \n",
       "CLI100         1       1    64         1                    2           1   \n",
       "CLI1000        1       1    65         1                    2           1   \n",
       "CLI10000       1       0    33         0                    1           0   \n",
       "CLI10001       1       1    52         0                    2           1   \n",
       "\n",
       "          Family_Size  anno_nacimiento  Generacion  Ingresos_anuales_brutos  \\\n",
       "ID                                                                            \n",
       "CLI10               3             1957           1                    93442   \n",
       "CLI100              2             1960           1                    99774   \n",
       "CLI1000             3             1959           1                    36756   \n",
       "CLI10000            4             1991           2                    24616   \n",
       "CLI10001            2             1972           1                    29834   \n",
       "\n",
       "          ...  zonas_Sur  ambito_laboral_Finanzas  ambito_laboral_Otros  \\\n",
       "ID        ...                                                             \n",
       "CLI10     ...          0                        0                     0   \n",
       "CLI100    ...          0                        0                     0   \n",
       "CLI1000   ...          0                        0                     0   \n",
       "CLI10000  ...          0                        0                     0   \n",
       "CLI10001  ...          0                        0                     1   \n",
       "\n",
       "          ambito_laboral_Salud  ambito_laboral_Servicios Publicos  \\\n",
       "ID                                                                  \n",
       "CLI10                        0                                  0   \n",
       "CLI100                       1                                  0   \n",
       "CLI1000                      0                                  0   \n",
       "CLI10000                     0                                  1   \n",
       "CLI10001                     0                                  0   \n",
       "\n",
       "          ambito_laboral_Tecnologia/Industria  Campanna_anno_1.0  \\\n",
       "ID                                                                 \n",
       "CLI10                                       1                  0   \n",
       "CLI100                                      0                  0   \n",
       "CLI1000                                     0                  0   \n",
       "CLI10000                                    0                  0   \n",
       "CLI10001                                    0                  0   \n",
       "\n",
       "          Campanna_anno_3.0  Campanna_anno_4.0  Campanna_anno_5.0  \n",
       "ID                                                                 \n",
       "CLI10                     0                  0                  0  \n",
       "CLI100                    0                  0                  1  \n",
       "CLI1000                   1                  0                  0  \n",
       "CLI10000                  0                  1                  0  \n",
       "CLI10001                  0                  0                  0  \n",
       "\n",
       "[5 rows x 26 columns]"
      ]
     },
     "execution_count": 583,
     "metadata": {},
     "output_type": "execute_result"
    }
   ],
   "source": [
    "df.head()"
   ]
  },
  {
   "cell_type": "code",
   "execution_count": 584,
   "metadata": {},
   "outputs": [],
   "source": [
    "v_continuas.remove('Campanna_anno')  # Eliminar 'Campanna_anno' de variables continuas\n",
    "v_continuas.remove('Family_Size')     # Eliminar 'Family_Size' de variables continuas"
   ]
  },
  {
   "cell_type": "code",
   "execution_count": 585,
   "metadata": {},
   "outputs": [
    {
     "data": {
      "application/vnd.microsoft.datawrangler.viewer.v0+json": {
       "columns": [
        {
         "name": "ID",
         "rawType": "object",
         "type": "string"
        },
        {
         "name": "Edad",
         "rawType": "float64",
         "type": "float"
        },
        {
         "name": "anno_nacimiento",
         "rawType": "float64",
         "type": "float"
        },
        {
         "name": "Ingresos_anuales_brutos",
         "rawType": "float64",
         "type": "float"
        },
        {
         "name": "Digital_encuesta",
         "rawType": "float64",
         "type": "float"
        },
        {
         "name": "Gasto_medio_mensual_cuota",
         "rawType": "float64",
         "type": "float"
        },
        {
         "name": "Abandono",
         "rawType": "float64",
         "type": "float"
        },
        {
         "name": "Dias_cliente",
         "rawType": "float64",
         "type": "float"
        }
       ],
       "conversionMethod": "pd.DataFrame",
       "ref": "30cd9ed5-0320-43d4-b714-11a19973a933",
       "rows": [
        [
         "CLI10",
         "1.0367187959428303",
         "-1.0364931430515387",
         "1.0525573631157916",
         "-0.10003391709767916",
         "1.226054639879935",
         "1.5300879047257565",
         "-0.6927435632636887"
        ],
        [
         "CLI100",
         "0.8736318852860478",
         "-0.8734035155222132",
         "1.2312657339494952",
         "-0.2558233929861882",
         "0.17013106035126344",
         "1.5300879047257565",
         "0.41662569822506046"
        ],
        [
         "CLI1000",
         "0.9279941888383088",
         "-0.9277667246986551",
         "-0.5472946124178989",
         "0.05528772252690044",
         "-0.5338179926678509",
         "-0.6535572217200383",
         "0.7326278514976132"
        ],
        [
         "CLI10000",
         "-0.8115995248340387",
         "0.8118559689474832",
         "-0.8899224743763896",
         "0.0033578972307307525",
         "-0.5338179926678509",
         "-0.6535572217200383",
         "1.6537405110367565"
        ],
        [
         "CLI10001",
         "0.22128424265891755",
         "-0.22104500540491137",
         "-0.7426545844505738",
         "-0.11827953139092796",
         "-0.5338179926678509",
         "1.5300879047257565",
         "-0.8608298150044082"
        ]
       ],
       "shape": {
        "columns": 7,
        "rows": 5
       }
      },
      "text/html": [
       "<div>\n",
       "<style scoped>\n",
       "    .dataframe tbody tr th:only-of-type {\n",
       "        vertical-align: middle;\n",
       "    }\n",
       "\n",
       "    .dataframe tbody tr th {\n",
       "        vertical-align: top;\n",
       "    }\n",
       "\n",
       "    .dataframe thead th {\n",
       "        text-align: right;\n",
       "    }\n",
       "</style>\n",
       "<table border=\"1\" class=\"dataframe\">\n",
       "  <thead>\n",
       "    <tr style=\"text-align: right;\">\n",
       "      <th></th>\n",
       "      <th>Edad</th>\n",
       "      <th>anno_nacimiento</th>\n",
       "      <th>Ingresos_anuales_brutos</th>\n",
       "      <th>Digital_encuesta</th>\n",
       "      <th>Gasto_medio_mensual_cuota</th>\n",
       "      <th>Abandono</th>\n",
       "      <th>Dias_cliente</th>\n",
       "    </tr>\n",
       "    <tr>\n",
       "      <th>ID</th>\n",
       "      <th></th>\n",
       "      <th></th>\n",
       "      <th></th>\n",
       "      <th></th>\n",
       "      <th></th>\n",
       "      <th></th>\n",
       "      <th></th>\n",
       "    </tr>\n",
       "  </thead>\n",
       "  <tbody>\n",
       "    <tr>\n",
       "      <th>CLI10</th>\n",
       "      <td>1.036719</td>\n",
       "      <td>-1.036493</td>\n",
       "      <td>1.052557</td>\n",
       "      <td>-0.100034</td>\n",
       "      <td>1.226055</td>\n",
       "      <td>1.530088</td>\n",
       "      <td>-0.692744</td>\n",
       "    </tr>\n",
       "    <tr>\n",
       "      <th>CLI100</th>\n",
       "      <td>0.873632</td>\n",
       "      <td>-0.873404</td>\n",
       "      <td>1.231266</td>\n",
       "      <td>-0.255823</td>\n",
       "      <td>0.170131</td>\n",
       "      <td>1.530088</td>\n",
       "      <td>0.416626</td>\n",
       "    </tr>\n",
       "    <tr>\n",
       "      <th>CLI1000</th>\n",
       "      <td>0.927994</td>\n",
       "      <td>-0.927767</td>\n",
       "      <td>-0.547295</td>\n",
       "      <td>0.055288</td>\n",
       "      <td>-0.533818</td>\n",
       "      <td>-0.653557</td>\n",
       "      <td>0.732628</td>\n",
       "    </tr>\n",
       "    <tr>\n",
       "      <th>CLI10000</th>\n",
       "      <td>-0.811600</td>\n",
       "      <td>0.811856</td>\n",
       "      <td>-0.889922</td>\n",
       "      <td>0.003358</td>\n",
       "      <td>-0.533818</td>\n",
       "      <td>-0.653557</td>\n",
       "      <td>1.653741</td>\n",
       "    </tr>\n",
       "    <tr>\n",
       "      <th>CLI10001</th>\n",
       "      <td>0.221284</td>\n",
       "      <td>-0.221045</td>\n",
       "      <td>-0.742655</td>\n",
       "      <td>-0.118280</td>\n",
       "      <td>-0.533818</td>\n",
       "      <td>1.530088</td>\n",
       "      <td>-0.860830</td>\n",
       "    </tr>\n",
       "  </tbody>\n",
       "</table>\n",
       "</div>"
      ],
      "text/plain": [
       "              Edad  anno_nacimiento  Ingresos_anuales_brutos  \\\n",
       "ID                                                             \n",
       "CLI10     1.036719        -1.036493                 1.052557   \n",
       "CLI100    0.873632        -0.873404                 1.231266   \n",
       "CLI1000   0.927994        -0.927767                -0.547295   \n",
       "CLI10000 -0.811600         0.811856                -0.889922   \n",
       "CLI10001  0.221284        -0.221045                -0.742655   \n",
       "\n",
       "          Digital_encuesta  Gasto_medio_mensual_cuota  Abandono  Dias_cliente  \n",
       "ID                                                                             \n",
       "CLI10            -0.100034                   1.226055  1.530088     -0.692744  \n",
       "CLI100           -0.255823                   0.170131  1.530088      0.416626  \n",
       "CLI1000           0.055288                  -0.533818 -0.653557      0.732628  \n",
       "CLI10000          0.003358                  -0.533818 -0.653557      1.653741  \n",
       "CLI10001         -0.118280                  -0.533818  1.530088     -0.860830  "
      ]
     },
     "execution_count": 585,
     "metadata": {},
     "output_type": "execute_result"
    }
   ],
   "source": [
    "# Asumiendo que 'v_continuas' es una lista de las columnas continuas a escalar\n",
    "# Aplicar StandardScaler a las columnas continuas\n",
    "scaler = StandardScaler()\n",
    "\n",
    "# Escalar las columnas continuas\n",
    "df[v_continuas] = scaler.fit_transform(df[v_continuas])\n",
    "\n",
    "# Mostrar las primeras filas de las columnas escaladas\n",
    "df[v_continuas].head()"
   ]
  },
  {
   "cell_type": "code",
   "execution_count": 586,
   "metadata": {},
   "outputs": [],
   "source": [
    "df.to_csv('../data/clientes_preprocesado.csv', index=False)"
   ]
  },
  {
   "cell_type": "code",
   "execution_count": 587,
   "metadata": {},
   "outputs": [
    {
     "data": {
      "application/vnd.microsoft.datawrangler.viewer.v0+json": {
       "columns": [
        {
         "name": "ID",
         "rawType": "object",
         "type": "string"
        },
        {
         "name": "Genero",
         "rawType": "int64",
         "type": "integer"
        },
        {
         "name": "Casado",
         "rawType": "int64",
         "type": "integer"
        },
        {
         "name": "Edad",
         "rawType": "float64",
         "type": "float"
        },
        {
         "name": "Graduado",
         "rawType": "int64",
         "type": "integer"
        },
        {
         "name": "Experiencia_laboral",
         "rawType": "int64",
         "type": "integer"
        },
        {
         "name": "Gastoscore",
         "rawType": "int64",
         "type": "integer"
        },
        {
         "name": "Family_Size",
         "rawType": "int64",
         "type": "integer"
        },
        {
         "name": "anno_nacimiento",
         "rawType": "float64",
         "type": "float"
        },
        {
         "name": "Generacion",
         "rawType": "int64",
         "type": "integer"
        },
        {
         "name": "Ingresos_anuales_brutos",
         "rawType": "float64",
         "type": "float"
        },
        {
         "name": "Digital_encuesta",
         "rawType": "float64",
         "type": "float"
        },
        {
         "name": "Gasto_medio_mensual_cuota",
         "rawType": "float64",
         "type": "float"
        },
        {
         "name": "Abandono",
         "rawType": "float64",
         "type": "float"
        },
        {
         "name": "Dias_cliente",
         "rawType": "float64",
         "type": "float"
        },
        {
         "name": "zonas_Norte",
         "rawType": "int64",
         "type": "integer"
        },
        {
         "name": "zonas_Oeste",
         "rawType": "int64",
         "type": "integer"
        },
        {
         "name": "zonas_Sur",
         "rawType": "int64",
         "type": "integer"
        },
        {
         "name": "ambito_laboral_Finanzas",
         "rawType": "int64",
         "type": "integer"
        },
        {
         "name": "ambito_laboral_Otros",
         "rawType": "int64",
         "type": "integer"
        },
        {
         "name": "ambito_laboral_Salud",
         "rawType": "int64",
         "type": "integer"
        },
        {
         "name": "ambito_laboral_Servicios Publicos",
         "rawType": "int64",
         "type": "integer"
        },
        {
         "name": "ambito_laboral_Tecnologia/Industria",
         "rawType": "int64",
         "type": "integer"
        },
        {
         "name": "Campanna_anno_1.0",
         "rawType": "int64",
         "type": "integer"
        },
        {
         "name": "Campanna_anno_3.0",
         "rawType": "int64",
         "type": "integer"
        },
        {
         "name": "Campanna_anno_4.0",
         "rawType": "int64",
         "type": "integer"
        },
        {
         "name": "Campanna_anno_5.0",
         "rawType": "int64",
         "type": "integer"
        }
       ],
       "conversionMethod": "pd.DataFrame",
       "ref": "48365358-3d3e-45d0-bf12-87c229df56e9",
       "rows": [
        [
         "CLI10",
         "0",
         "1",
         "1.0367187959428303",
         "1",
         "2",
         "0",
         "3",
         "-1.0364931430515387",
         "1",
         "1.0525573631157916",
         "-0.10003391709767916",
         "1.226054639879935",
         "1.5300879047257565",
         "-0.6927435632636887",
         "0",
         "1",
         "0",
         "0",
         "0",
         "0",
         "0",
         "1",
         "0",
         "0",
         "0",
         "0"
        ],
        [
         "CLI100",
         "1",
         "1",
         "0.8736318852860478",
         "1",
         "2",
         "1",
         "2",
         "-0.8734035155222132",
         "1",
         "1.2312657339494952",
         "-0.2558233929861882",
         "0.17013106035126344",
         "1.5300879047257565",
         "0.41662569822506046",
         "0",
         "0",
         "0",
         "0",
         "0",
         "1",
         "0",
         "0",
         "0",
         "0",
         "0",
         "1"
        ],
        [
         "CLI1000",
         "1",
         "1",
         "0.9279941888383088",
         "1",
         "2",
         "1",
         "3",
         "-0.9277667246986551",
         "1",
         "-0.5472946124178989",
         "0.05528772252690044",
         "-0.5338179926678509",
         "-0.6535572217200383",
         "0.7326278514976132",
         "0",
         "1",
         "0",
         "0",
         "0",
         "0",
         "0",
         "0",
         "0",
         "1",
         "0",
         "0"
        ],
        [
         "CLI10000",
         "1",
         "0",
         "-0.8115995248340387",
         "0",
         "1",
         "0",
         "4",
         "0.8118559689474832",
         "2",
         "-0.8899224743763896",
         "0.0033578972307307525",
         "-0.5338179926678509",
         "-0.6535572217200383",
         "1.6537405110367565",
         "0",
         "1",
         "0",
         "0",
         "0",
         "0",
         "1",
         "0",
         "0",
         "0",
         "1",
         "0"
        ],
        [
         "CLI10001",
         "1",
         "1",
         "0.22128424265891755",
         "0",
         "2",
         "1",
         "2",
         "-0.22104500540491137",
         "1",
         "-0.7426545844505738",
         "-0.11827953139092796",
         "-0.5338179926678509",
         "1.5300879047257565",
         "-0.8608298150044082",
         "0",
         "0",
         "0",
         "0",
         "1",
         "0",
         "0",
         "0",
         "0",
         "0",
         "0",
         "0"
        ]
       ],
       "shape": {
        "columns": 26,
        "rows": 5
       }
      },
      "text/html": [
       "<div>\n",
       "<style scoped>\n",
       "    .dataframe tbody tr th:only-of-type {\n",
       "        vertical-align: middle;\n",
       "    }\n",
       "\n",
       "    .dataframe tbody tr th {\n",
       "        vertical-align: top;\n",
       "    }\n",
       "\n",
       "    .dataframe thead th {\n",
       "        text-align: right;\n",
       "    }\n",
       "</style>\n",
       "<table border=\"1\" class=\"dataframe\">\n",
       "  <thead>\n",
       "    <tr style=\"text-align: right;\">\n",
       "      <th></th>\n",
       "      <th>Genero</th>\n",
       "      <th>Casado</th>\n",
       "      <th>Edad</th>\n",
       "      <th>Graduado</th>\n",
       "      <th>Experiencia_laboral</th>\n",
       "      <th>Gastoscore</th>\n",
       "      <th>Family_Size</th>\n",
       "      <th>anno_nacimiento</th>\n",
       "      <th>Generacion</th>\n",
       "      <th>Ingresos_anuales_brutos</th>\n",
       "      <th>...</th>\n",
       "      <th>zonas_Sur</th>\n",
       "      <th>ambito_laboral_Finanzas</th>\n",
       "      <th>ambito_laboral_Otros</th>\n",
       "      <th>ambito_laboral_Salud</th>\n",
       "      <th>ambito_laboral_Servicios Publicos</th>\n",
       "      <th>ambito_laboral_Tecnologia/Industria</th>\n",
       "      <th>Campanna_anno_1.0</th>\n",
       "      <th>Campanna_anno_3.0</th>\n",
       "      <th>Campanna_anno_4.0</th>\n",
       "      <th>Campanna_anno_5.0</th>\n",
       "    </tr>\n",
       "    <tr>\n",
       "      <th>ID</th>\n",
       "      <th></th>\n",
       "      <th></th>\n",
       "      <th></th>\n",
       "      <th></th>\n",
       "      <th></th>\n",
       "      <th></th>\n",
       "      <th></th>\n",
       "      <th></th>\n",
       "      <th></th>\n",
       "      <th></th>\n",
       "      <th></th>\n",
       "      <th></th>\n",
       "      <th></th>\n",
       "      <th></th>\n",
       "      <th></th>\n",
       "      <th></th>\n",
       "      <th></th>\n",
       "      <th></th>\n",
       "      <th></th>\n",
       "      <th></th>\n",
       "      <th></th>\n",
       "    </tr>\n",
       "  </thead>\n",
       "  <tbody>\n",
       "    <tr>\n",
       "      <th>CLI10</th>\n",
       "      <td>0</td>\n",
       "      <td>1</td>\n",
       "      <td>1.036719</td>\n",
       "      <td>1</td>\n",
       "      <td>2</td>\n",
       "      <td>0</td>\n",
       "      <td>3</td>\n",
       "      <td>-1.036493</td>\n",
       "      <td>1</td>\n",
       "      <td>1.052557</td>\n",
       "      <td>...</td>\n",
       "      <td>0</td>\n",
       "      <td>0</td>\n",
       "      <td>0</td>\n",
       "      <td>0</td>\n",
       "      <td>0</td>\n",
       "      <td>1</td>\n",
       "      <td>0</td>\n",
       "      <td>0</td>\n",
       "      <td>0</td>\n",
       "      <td>0</td>\n",
       "    </tr>\n",
       "    <tr>\n",
       "      <th>CLI100</th>\n",
       "      <td>1</td>\n",
       "      <td>1</td>\n",
       "      <td>0.873632</td>\n",
       "      <td>1</td>\n",
       "      <td>2</td>\n",
       "      <td>1</td>\n",
       "      <td>2</td>\n",
       "      <td>-0.873404</td>\n",
       "      <td>1</td>\n",
       "      <td>1.231266</td>\n",
       "      <td>...</td>\n",
       "      <td>0</td>\n",
       "      <td>0</td>\n",
       "      <td>0</td>\n",
       "      <td>1</td>\n",
       "      <td>0</td>\n",
       "      <td>0</td>\n",
       "      <td>0</td>\n",
       "      <td>0</td>\n",
       "      <td>0</td>\n",
       "      <td>1</td>\n",
       "    </tr>\n",
       "    <tr>\n",
       "      <th>CLI1000</th>\n",
       "      <td>1</td>\n",
       "      <td>1</td>\n",
       "      <td>0.927994</td>\n",
       "      <td>1</td>\n",
       "      <td>2</td>\n",
       "      <td>1</td>\n",
       "      <td>3</td>\n",
       "      <td>-0.927767</td>\n",
       "      <td>1</td>\n",
       "      <td>-0.547295</td>\n",
       "      <td>...</td>\n",
       "      <td>0</td>\n",
       "      <td>0</td>\n",
       "      <td>0</td>\n",
       "      <td>0</td>\n",
       "      <td>0</td>\n",
       "      <td>0</td>\n",
       "      <td>0</td>\n",
       "      <td>1</td>\n",
       "      <td>0</td>\n",
       "      <td>0</td>\n",
       "    </tr>\n",
       "    <tr>\n",
       "      <th>CLI10000</th>\n",
       "      <td>1</td>\n",
       "      <td>0</td>\n",
       "      <td>-0.811600</td>\n",
       "      <td>0</td>\n",
       "      <td>1</td>\n",
       "      <td>0</td>\n",
       "      <td>4</td>\n",
       "      <td>0.811856</td>\n",
       "      <td>2</td>\n",
       "      <td>-0.889922</td>\n",
       "      <td>...</td>\n",
       "      <td>0</td>\n",
       "      <td>0</td>\n",
       "      <td>0</td>\n",
       "      <td>0</td>\n",
       "      <td>1</td>\n",
       "      <td>0</td>\n",
       "      <td>0</td>\n",
       "      <td>0</td>\n",
       "      <td>1</td>\n",
       "      <td>0</td>\n",
       "    </tr>\n",
       "    <tr>\n",
       "      <th>CLI10001</th>\n",
       "      <td>1</td>\n",
       "      <td>1</td>\n",
       "      <td>0.221284</td>\n",
       "      <td>0</td>\n",
       "      <td>2</td>\n",
       "      <td>1</td>\n",
       "      <td>2</td>\n",
       "      <td>-0.221045</td>\n",
       "      <td>1</td>\n",
       "      <td>-0.742655</td>\n",
       "      <td>...</td>\n",
       "      <td>0</td>\n",
       "      <td>0</td>\n",
       "      <td>1</td>\n",
       "      <td>0</td>\n",
       "      <td>0</td>\n",
       "      <td>0</td>\n",
       "      <td>0</td>\n",
       "      <td>0</td>\n",
       "      <td>0</td>\n",
       "      <td>0</td>\n",
       "    </tr>\n",
       "  </tbody>\n",
       "</table>\n",
       "<p>5 rows × 26 columns</p>\n",
       "</div>"
      ],
      "text/plain": [
       "          Genero  Casado      Edad  Graduado  Experiencia_laboral  Gastoscore  \\\n",
       "ID                                                                              \n",
       "CLI10          0       1  1.036719         1                    2           0   \n",
       "CLI100         1       1  0.873632         1                    2           1   \n",
       "CLI1000        1       1  0.927994         1                    2           1   \n",
       "CLI10000       1       0 -0.811600         0                    1           0   \n",
       "CLI10001       1       1  0.221284         0                    2           1   \n",
       "\n",
       "          Family_Size  anno_nacimiento  Generacion  Ingresos_anuales_brutos  \\\n",
       "ID                                                                            \n",
       "CLI10               3        -1.036493           1                 1.052557   \n",
       "CLI100              2        -0.873404           1                 1.231266   \n",
       "CLI1000             3        -0.927767           1                -0.547295   \n",
       "CLI10000            4         0.811856           2                -0.889922   \n",
       "CLI10001            2        -0.221045           1                -0.742655   \n",
       "\n",
       "          ...  zonas_Sur  ambito_laboral_Finanzas  ambito_laboral_Otros  \\\n",
       "ID        ...                                                             \n",
       "CLI10     ...          0                        0                     0   \n",
       "CLI100    ...          0                        0                     0   \n",
       "CLI1000   ...          0                        0                     0   \n",
       "CLI10000  ...          0                        0                     0   \n",
       "CLI10001  ...          0                        0                     1   \n",
       "\n",
       "          ambito_laboral_Salud  ambito_laboral_Servicios Publicos  \\\n",
       "ID                                                                  \n",
       "CLI10                        0                                  0   \n",
       "CLI100                       1                                  0   \n",
       "CLI1000                      0                                  0   \n",
       "CLI10000                     0                                  1   \n",
       "CLI10001                     0                                  0   \n",
       "\n",
       "          ambito_laboral_Tecnologia/Industria  Campanna_anno_1.0  \\\n",
       "ID                                                                 \n",
       "CLI10                                       1                  0   \n",
       "CLI100                                      0                  0   \n",
       "CLI1000                                     0                  0   \n",
       "CLI10000                                    0                  0   \n",
       "CLI10001                                    0                  0   \n",
       "\n",
       "          Campanna_anno_3.0  Campanna_anno_4.0  Campanna_anno_5.0  \n",
       "ID                                                                 \n",
       "CLI10                     0                  0                  0  \n",
       "CLI100                    0                  0                  1  \n",
       "CLI1000                   1                  0                  0  \n",
       "CLI10000                  0                  1                  0  \n",
       "CLI10001                  0                  0                  0  \n",
       "\n",
       "[5 rows x 26 columns]"
      ]
     },
     "execution_count": 587,
     "metadata": {},
     "output_type": "execute_result"
    }
   ],
   "source": [
    "df.head()"
   ]
  },
  {
   "cell_type": "code",
   "execution_count": null,
   "metadata": {},
   "outputs": [],
   "source": []
  }
 ],
 "metadata": {
  "kernelspec": {
   "display_name": "env",
   "language": "python",
   "name": "python3"
  },
  "language_info": {
   "codemirror_mode": {
    "name": "ipython",
    "version": 3
   },
   "file_extension": ".py",
   "mimetype": "text/x-python",
   "name": "python",
   "nbconvert_exporter": "python",
   "pygments_lexer": "ipython3",
   "version": "3.10.0"
  }
 },
 "nbformat": 4,
 "nbformat_minor": 2
}
